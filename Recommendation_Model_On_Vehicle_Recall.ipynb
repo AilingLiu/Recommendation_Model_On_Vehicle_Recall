{
  "nbformat": 4,
  "nbformat_minor": 0,
  "metadata": {
    "colab": {
      "name": "Recommendation_Model_On_Vehicle_Recall.ipynb",
      "provenance": [],
      "collapsed_sections": [],
      "authorship_tag": "ABX9TyNtvnazSG/C2eq0iuqJ+q4e",
      "include_colab_link": true
    },
    "kernelspec": {
      "name": "python3",
      "display_name": "Python 3"
    }
  },
  "cells": [
    {
      "cell_type": "markdown",
      "metadata": {
        "id": "view-in-github",
        "colab_type": "text"
      },
      "source": [
        "<a href=\"https://colab.research.google.com/github/AilingLiu/Recommendation_Model_On_Vehicle_Recall/blob/master/Recommendation_Model_On_Vehicle_Recall.ipynb\" target=\"_parent\"><img src=\"https://colab.research.google.com/assets/colab-badge.svg\" alt=\"Open In Colab\"/></a>"
      ]
    },
    {
      "cell_type": "markdown",
      "metadata": {
        "id": "PugrUFPG4OQf",
        "colab_type": "text"
      },
      "source": [
        "# Background\n",
        "\n",
        "This project is a take-home-test as part of interview process. The data is provided by the company, and can be downloaded from my google drive following the notebook instruction.\n",
        "\n",
        "**Project Introduction**\n",
        "\n",
        "A car manufacturer is deciding whether a specific vehicle should be recalled; there appears to be a problem with some brake components, but it might be related to multiple variables. \n",
        "\n",
        "The stakeholder wants you to build something that allows them to recommend a recall based on the historical decision data provided.\n",
        "\n",
        "Ideally, the car company released the following model last summer and real-world feedback suggests that the model might be worthy of a recall.\n",
        "\n",
        "*Created by*:\n",
        "Ailing Liu. email:\n",
        "ailingliu88@hotmail.com"
      ]
    },
    {
      "cell_type": "markdown",
      "metadata": {
        "id": "KwSLd9Dx4SM_",
        "colab_type": "text"
      },
      "source": [
        "# Set Up"
      ]
    },
    {
      "cell_type": "code",
      "metadata": {
        "id": "HQZ_OL_mqUCE",
        "colab_type": "code",
        "colab": {
          "base_uri": "https://localhost:8080/",
          "height": 87
        },
        "outputId": "da35d95c-4e6f-4885-fbe0-601c0b727a48"
      },
      "source": [
        "import sys\n",
        "assert sys.version_info >= (3, 5)\n",
        "\n",
        "import sklearn\n",
        "assert sklearn.__version__ >= '0.2'\n",
        "\n",
        "import numpy as np\n",
        "import pandas as pd\n",
        "import seaborn as sns\n",
        "import matplotlib.pyplot as plt\n",
        "import matplotlib as mpl\n",
        "%matplotlib inline\n",
        "mpl.rc('axes', labelsize=14)\n",
        "mpl.rc('xtick', labelsize=12)\n",
        "mpl.rc('ytick', labelsize=12)\n",
        "import statsmodels.formula.api as smf\n",
        "import os\n",
        "import urllib\n",
        "\n",
        "\n",
        "REQUIREMENT_FILE = 'https://raw.githubusercontent.com/AilingLiu/Recommendation_Model_On_Vehicle_Recall/master/requirements.txt' #stored on github\n",
        "#REQUIREMENT_FILE = 'https://drive.google.com/u/0/uc?id=151lpB4jCHNQJiiZabmm_JQTczehYuq1O&export=download' #alternative, stored on gdrive\n",
        "\n",
        "REQ_NAME = 'requirements.txt'\n",
        "\n",
        "def fetch_file(file_url=REQUIREMENT_FILE, output_name=REQ_NAME):\n",
        "  #gdown.download(req_file, output_name, quiet=False)\n",
        "  print('Downloading')\n",
        "  urllib.request.urlretrieve(file_url, output_name) \n",
        "  print('Complete.')\n",
        "\n",
        "fetch_file()"
      ],
      "execution_count": 2,
      "outputs": [
        {
          "output_type": "stream",
          "text": [
            "Downloading\n",
            "Complete.\n"
          ],
          "name": "stdout"
        },
        {
          "output_type": "stream",
          "text": [
            "/usr/local/lib/python3.6/dist-packages/statsmodels/tools/_testing.py:19: FutureWarning: pandas.util.testing is deprecated. Use the functions in the public API at pandas.testing instead.\n",
            "  import pandas.util.testing as tm\n"
          ],
          "name": "stderr"
        }
      ]
    },
    {
      "cell_type": "code",
      "metadata": {
        "id": "DBK84x26IIuM",
        "colab_type": "code",
        "colab": {}
      },
      "source": [
        "pip install -r requirements.txt"
      ],
      "execution_count": 0,
      "outputs": []
    },
    {
      "cell_type": "code",
      "metadata": {
        "id": "pVJJmVIry4QK",
        "colab_type": "code",
        "colab": {}
      },
      "source": [
        "# where to save figures\n",
        "PROJECT_ROOT_DIR = '.'\n",
        "CHAPTER_ID = 'CAR'\n",
        "IMAGES_PATH = os.path.join(PROJECT_ROOT_DIR, CHAPTER_ID, 'IMAGES')\n",
        "if not os.path.isdir(IMAGES_PATH):\n",
        "  os.makedirs(IMAGES_PATH)\n",
        "\n",
        "# saving figures helper\n",
        "def save_fig(figure_name, path=IMAGES_PATH, dpi=300, tight_layout=True, format='png'):\n",
        "  figure_path=os.path.join(path, figure_name+'.'+format)\n",
        "  if tight_layout:\n",
        "    plt.tight_layout()\n",
        "  plt.savefig(figure_path, dpi=dpi, format=format)\n",
        "\n",
        "# where to save data\n",
        "DATA_PATH = os.path.join(PROJECT_ROOT_DIR, CHAPTER_ID, 'DATASETS')\n",
        "if not os.path.isdir(DATA_PATH):\n",
        "  os.makedirs(DATA_PATH)\n",
        "\n",
        "# where to save model pickle\n",
        "MODEL_PATH = os.path.join(PROJECT_ROOT_DIR, CHAPTER_ID, 'MODELS')\n",
        "if not os.path.isdir(MODEL_PATH):\n",
        "  os.makedirs(MODEL_PATH)\n",
        "\n",
        "import joblib\n",
        "def save_model(model_obj, model_name, path=MODEL_PATH):\n",
        "  model_path = os.path.join(path, model_name+'.pkl')\n",
        "  joblib.dump(model_obj, model_path)\n",
        "\n",
        "import warnings\n",
        "warnings.filterwarnings(action=\"ignore\", message=\"^internal gelsd\")"
      ],
      "execution_count": 0,
      "outputs": []
    },
    {
      "cell_type": "markdown",
      "metadata": {
        "id": "DKfl4d73UPZQ",
        "colab_type": "text"
      },
      "source": [
        "# Load Data"
      ]
    },
    {
      "cell_type": "code",
      "metadata": {
        "id": "uHkkfdSAkCFv",
        "colab_type": "code",
        "outputId": "0ac7e4c2-d3a2-4f5f-9738-c667050ebe52",
        "colab": {
          "base_uri": "https://localhost:8080/",
          "height": 233
        }
      },
      "source": [
        "CAR_URL = 'https://raw.githubusercontent.com/AilingLiu/Recommendation_Model_On_Vehicle_Recall/master/Recall_Data.csv' #stored on github\n",
        "#CAR_URL = 'https://drive.google.com/u/0/uc?id=1gN_rtHd2opL3WOP9ra3vEdzdtJo-2EHh&export=download' #alternative, stored on gdrive\n",
        "\n",
        "OUTPUT_NAME = os.path.join(DATA_PATH, 'recall.csv')\n",
        "\n",
        "def load_data(file_name=OUTPUT_NAME):\n",
        "  column_names = ['model_year', 'fuel', 'wheel', 'power_hp', 'transmission', 'body', 'variant', 'quantity_sold', 'recall_result']\n",
        "  return pd.read_csv(file_name, header=0, names=column_names)\n",
        "\n",
        "fetch_file(CAR_URL, OUTPUT_NAME)\n",
        "car = load_data()\n",
        "car.head()"
      ],
      "execution_count": 5,
      "outputs": [
        {
          "output_type": "stream",
          "text": [
            "Downloading\n",
            "Complete.\n"
          ],
          "name": "stdout"
        },
        {
          "output_type": "execute_result",
          "data": {
            "text/html": [
              "<div>\n",
              "<style scoped>\n",
              "    .dataframe tbody tr th:only-of-type {\n",
              "        vertical-align: middle;\n",
              "    }\n",
              "\n",
              "    .dataframe tbody tr th {\n",
              "        vertical-align: top;\n",
              "    }\n",
              "\n",
              "    .dataframe thead th {\n",
              "        text-align: right;\n",
              "    }\n",
              "</style>\n",
              "<table border=\"1\" class=\"dataframe\">\n",
              "  <thead>\n",
              "    <tr style=\"text-align: right;\">\n",
              "      <th></th>\n",
              "      <th>model_year</th>\n",
              "      <th>fuel</th>\n",
              "      <th>wheel</th>\n",
              "      <th>power_hp</th>\n",
              "      <th>transmission</th>\n",
              "      <th>body</th>\n",
              "      <th>variant</th>\n",
              "      <th>quantity_sold</th>\n",
              "      <th>recall_result</th>\n",
              "    </tr>\n",
              "  </thead>\n",
              "  <tbody>\n",
              "    <tr>\n",
              "      <th>0</th>\n",
              "      <td>2002</td>\n",
              "      <td>diesel</td>\n",
              "      <td>steel</td>\n",
              "      <td>100</td>\n",
              "      <td>semi-automatic</td>\n",
              "      <td>hatchback</td>\n",
              "      <td>Base</td>\n",
              "      <td>2641</td>\n",
              "      <td>recall</td>\n",
              "    </tr>\n",
              "    <tr>\n",
              "      <th>1</th>\n",
              "      <td>2010</td>\n",
              "      <td>petrol</td>\n",
              "      <td>alloy</td>\n",
              "      <td>250</td>\n",
              "      <td>automatic</td>\n",
              "      <td>wagon</td>\n",
              "      <td>GT</td>\n",
              "      <td>1349</td>\n",
              "      <td>recall</td>\n",
              "    </tr>\n",
              "    <tr>\n",
              "      <th>2</th>\n",
              "      <td>1992</td>\n",
              "      <td>diesel</td>\n",
              "      <td>steel</td>\n",
              "      <td>125</td>\n",
              "      <td>semi-automatic</td>\n",
              "      <td>saloon</td>\n",
              "      <td>S</td>\n",
              "      <td>7980</td>\n",
              "      <td>do not recall</td>\n",
              "    </tr>\n",
              "    <tr>\n",
              "      <th>3</th>\n",
              "      <td>2010</td>\n",
              "      <td>petrol</td>\n",
              "      <td>alloy</td>\n",
              "      <td>250</td>\n",
              "      <td>semi-automatic</td>\n",
              "      <td>wagon</td>\n",
              "      <td>Base</td>\n",
              "      <td>1135</td>\n",
              "      <td>do not recall</td>\n",
              "    </tr>\n",
              "    <tr>\n",
              "      <th>4</th>\n",
              "      <td>2005</td>\n",
              "      <td>diesel</td>\n",
              "      <td>steel</td>\n",
              "      <td>300</td>\n",
              "      <td>automatic</td>\n",
              "      <td>saloon</td>\n",
              "      <td>Base</td>\n",
              "      <td>2089</td>\n",
              "      <td>recall</td>\n",
              "    </tr>\n",
              "  </tbody>\n",
              "</table>\n",
              "</div>"
            ],
            "text/plain": [
              "   model_year    fuel  wheel  ...  variant quantity_sold  recall_result\n",
              "0        2002  diesel  steel  ...     Base          2641         recall\n",
              "1        2010  petrol  alloy  ...       GT          1349         recall\n",
              "2        1992  diesel  steel  ...        S          7980  do not recall\n",
              "3        2010  petrol  alloy  ...     Base          1135  do not recall\n",
              "4        2005  diesel  steel  ...     Base          2089         recall\n",
              "\n",
              "[5 rows x 9 columns]"
            ]
          },
          "metadata": {
            "tags": []
          },
          "execution_count": 5
        }
      ]
    },
    {
      "cell_type": "markdown",
      "metadata": {
        "id": "zSziEeKAy3oq",
        "colab_type": "text"
      },
      "source": [
        "# Exploratory Data Analysis"
      ]
    },
    {
      "cell_type": "code",
      "metadata": {
        "id": "CYPxwLdgywCM",
        "colab_type": "code",
        "outputId": "d52bce57-8165-45ba-e104-af2c34a40590",
        "colab": {
          "base_uri": "https://localhost:8080/",
          "height": 308
        }
      },
      "source": [
        "car.info()"
      ],
      "execution_count": 0,
      "outputs": [
        {
          "output_type": "stream",
          "text": [
            "<class 'pandas.core.frame.DataFrame'>\n",
            "RangeIndex: 100 entries, 0 to 99\n",
            "Data columns (total 9 columns):\n",
            " #   Column         Non-Null Count  Dtype \n",
            "---  ------         --------------  ----- \n",
            " 0   model_year     100 non-null    int64 \n",
            " 1   fuel           100 non-null    object\n",
            " 2   wheel          100 non-null    object\n",
            " 3   power_hp       100 non-null    int64 \n",
            " 4   transmission   100 non-null    object\n",
            " 5   body           100 non-null    object\n",
            " 6   variant        100 non-null    object\n",
            " 7   quantity_sold  100 non-null    int64 \n",
            " 8   recall_result  100 non-null    object\n",
            "dtypes: int64(3), object(6)\n",
            "memory usage: 7.2+ KB\n"
          ],
          "name": "stdout"
        }
      ]
    },
    {
      "cell_type": "markdown",
      "metadata": {
        "id": "dW5GL_KB0Lvt",
        "colab_type": "text"
      },
      "source": [
        "There are 100 instances in this dataset, with 8 columns. `recall result` is the target variable we want to predict. There is no missing value in any of the columns.\n",
        "\n",
        "Among the 8 features, there are 5 categorical features, and 2 numerical features, 1 ordinal feature which is modal year."
      ]
    },
    {
      "cell_type": "code",
      "metadata": {
        "id": "JjQ30ZKzzCkG",
        "colab_type": "code",
        "outputId": "c280ae63-b0bb-425c-be25-e4aa7de80d20",
        "colab": {
          "base_uri": "https://localhost:8080/",
          "height": 52
        }
      },
      "source": [
        "cat_features = set(car.select_dtypes(include='object').columns.values).difference(['recall_result'])\n",
        "num_features = set(car.select_dtypes(include='int64').columns.values).difference(['model_year'])\n",
        "print(f'categorical features: {cat_features}')\n",
        "print(f'numerical features: {num_features}')"
      ],
      "execution_count": 0,
      "outputs": [
        {
          "output_type": "stream",
          "text": [
            "categorical features: {'body', 'wheel', 'fuel', 'transmission', 'variant'}\n",
            "numerical features: {'quantity_sold', 'power_hp'}\n"
          ],
          "name": "stdout"
        }
      ]
    },
    {
      "cell_type": "markdown",
      "metadata": {
        "id": "fWMgMjmVbFkN",
        "colab_type": "text"
      },
      "source": [
        "## Visualize Recall Pattern from Independent Variables"
      ]
    },
    {
      "cell_type": "code",
      "metadata": {
        "id": "8m93DIxASp1h",
        "colab_type": "code",
        "outputId": "adbd72eb-0952-4178-e458-11cc87e39c49",
        "colab": {
          "base_uri": "https://localhost:8080/",
          "height": 584
        }
      },
      "source": [
        "fig, axes = plt.subplots(2, 4, figsize=(18, 8))\n",
        "\n",
        "for i, feature in enumerate(cat_features):\n",
        "\n",
        "  grouping = car.groupby(feature)['recall_result'].value_counts(normalize=True).unstack()\n",
        "  sns.barplot(x=grouping.index, y=grouping['recall'], ax=axes[i//4, i%4])\n",
        "  axes[i//4, i%4].set(title='Recall Rate by ' + feature + ' type')\n",
        "\n",
        "for i, feature in enumerate(num_features):\n",
        "  sns.boxplot(x='recall_result', y=feature, data=car, ax=axes[1, i+1])\n",
        "  axes[1, i+1].set(title='Boxplot of '+feature+' by Recall Result')\n",
        "\n",
        "# treating horse power as categorical data\n",
        "grouping = car.groupby('power_hp')['recall_result'].value_counts(normalize=True).unstack()\n",
        "sns.barplot(x=grouping.index, y=grouping['recall'], ax=axes[1, 3])\n",
        "axes[1, 3].set(title='Barplot of Horse Power by Recall Result')\n",
        "\n",
        "plt.tight_layout(True)\n",
        "plt.subplots_adjust(hspace=0.3)\n",
        "save_fig('EDA_All_Features_with_Recall')"
      ],
      "execution_count": 0,
      "outputs": [
        {
          "output_type": "display_data",
          "data": {
            "image/png": "[encoded data removed]",
            "text/plain": [
              "<Figure size 1296x576 with 8 Axes>"
            ]
          },
          "metadata": {
            "tags": [],
            "needs_background": "light"
          }
        }
      ]
    },
    {
      "cell_type": "markdown",
      "metadata": {
        "id": "iQ217QxzWp42",
        "colab_type": "text"
      },
      "source": [
        "We can spot the similarities or differences of recall rate from each categorical feature. For example, the average recall rate is 60% in Base variant type of car, and is only 30% in GT variant type. Similarly, hybird car, hatchback car, alloy car and automatic car have the highest recall rate compared to other type in the same category.\n",
        "\n",
        "In addition, cars with 150 horse power is 3 times more likely to be recalled than cars with 100 horse power. The advantage of visualisation is that it gives immediate insights of the data pattern with great interpretability. In general, I will move on to statistical test to validate insights, and identify the subtle differences of each level corresponding to target variable. But this step is not always necessary if the pattern is quite clear already. Feel free to skip below test to go to the predictive model section."
      ]
    },
    {
      "cell_type": "markdown",
      "metadata": {
        "id": "IRnxJzo5fgK1",
        "colab_type": "text"
      },
      "source": [
        "## Z test - Compare Recall Rate by Wheel Type\n",
        "\n",
        "$H_0$: The average recall rate in alloy and wheel group is the same."
      ]
    },
    {
      "cell_type": "code",
      "metadata": {
        "id": "YQ2w6O80gxO9",
        "colab_type": "code",
        "outputId": "b2b3b61e-f000-4869-90fb-faf7797d7a71",
        "colab": {
          "base_uri": "https://localhost:8080/",
          "height": 138
        }
      },
      "source": [
        "table = pd.crosstab(car['wheel'], car['recall_result'])\n",
        "table"
      ],
      "execution_count": 0,
      "outputs": [
        {
          "output_type": "execute_result",
          "data": {
            "text/html": [
              "<div>\n",
              "<style scoped>\n",
              "    .dataframe tbody tr th:only-of-type {\n",
              "        vertical-align: middle;\n",
              "    }\n",
              "\n",
              "    .dataframe tbody tr th {\n",
              "        vertical-align: top;\n",
              "    }\n",
              "\n",
              "    .dataframe thead th {\n",
              "        text-align: right;\n",
              "    }\n",
              "</style>\n",
              "<table border=\"1\" class=\"dataframe\">\n",
              "  <thead>\n",
              "    <tr style=\"text-align: right;\">\n",
              "      <th>recall_result</th>\n",
              "      <th>do not recall</th>\n",
              "      <th>recall</th>\n",
              "    </tr>\n",
              "    <tr>\n",
              "      <th>wheel</th>\n",
              "      <th></th>\n",
              "      <th></th>\n",
              "    </tr>\n",
              "  </thead>\n",
              "  <tbody>\n",
              "    <tr>\n",
              "      <th>alloy</th>\n",
              "      <td>26</td>\n",
              "      <td>24</td>\n",
              "    </tr>\n",
              "    <tr>\n",
              "      <th>steel</th>\n",
              "      <td>29</td>\n",
              "      <td>21</td>\n",
              "    </tr>\n",
              "  </tbody>\n",
              "</table>\n",
              "</div>"
            ],
            "text/plain": [
              "recall_result  do not recall  recall\n",
              "wheel                               \n",
              "alloy                     26      24\n",
              "steel                     29      21"
            ]
          },
          "metadata": {
            "tags": []
          },
          "execution_count": 24
        }
      ]
    },
    {
      "cell_type": "code",
      "metadata": {
        "id": "mKkZTCc3fs8D",
        "colab_type": "code",
        "outputId": "07876b02-594e-43fc-e9ea-c022c31c09b2",
        "colab": {
          "base_uri": "https://localhost:8080/",
          "height": 35
        }
      },
      "source": [
        "from statsmodels.stats.proportion import proportions_ztest\n",
        "\n",
        "z_val, p_val = proportions_ztest(count=table['recall'], nobs=table.sum(axis=1), alternative='two-sided')\n",
        "\n",
        "p_val"
      ],
      "execution_count": 0,
      "outputs": [
        {
          "output_type": "execute_result",
          "data": {
            "text/plain": [
              "0.5464935954065822"
            ]
          },
          "metadata": {
            "tags": []
          },
          "execution_count": 27
        }
      ]
    },
    {
      "cell_type": "markdown",
      "metadata": {
        "id": "FBTNypJzDBuq",
        "colab_type": "text"
      },
      "source": [
        "P value is greater than .05. The data does not provide evidence to reject null hypothesis. We concluded the recall rate is the same in alloy and steel type."
      ]
    },
    {
      "cell_type": "markdown",
      "metadata": {
        "id": "W3cSeGSGDeRe",
        "colab_type": "text"
      },
      "source": [
        "## Chi Square Test\n",
        "\n",
        "* Does any of the categorical variables have association with recall?\n",
        "* If there's association, which level has significant impact on recall result?"
      ]
    },
    {
      "cell_type": "code",
      "metadata": {
        "id": "O0aecjOO0uIF",
        "colab_type": "code",
        "outputId": "294b37bb-86a2-4c2e-f14c-d1dad20d490d",
        "colab": {
          "base_uri": "https://localhost:8080/",
          "height": 77
        }
      },
      "source": [
        "from scipy.stats import chi2_contingency\n",
        "\n",
        "def Create_Table(df, index_name, column_name):\n",
        "  return pd.crosstab(df[index_name], df[column_name])\n",
        "\n",
        "def Get_pval_chisq(contingency_table):\n",
        "  _, pval, _, _ = chi2_contingency(contingency_table)\n",
        "  return pval\n",
        "\n",
        "pvals = {}\n",
        "\n",
        "for col in ['power_hp','fuel', 'wheel', 'transmission', 'body', 'variant']:\n",
        "  table = Create_Table(car, col, 'recall_result')\n",
        "  pvals[col]=Get_pval_chisq(table)\n",
        "\n",
        "chisq_result = pd.DataFrame.from_dict(pvals, orient='index').rename(columns={0:'chisq-pvalue'}).T.round(3)\n",
        "chisq_result"
      ],
      "execution_count": 0,
      "outputs": [
        {
          "output_type": "execute_result",
          "data": {
            "text/html": [
              "<div>\n",
              "<style scoped>\n",
              "    .dataframe tbody tr th:only-of-type {\n",
              "        vertical-align: middle;\n",
              "    }\n",
              "\n",
              "    .dataframe tbody tr th {\n",
              "        vertical-align: top;\n",
              "    }\n",
              "\n",
              "    .dataframe thead th {\n",
              "        text-align: right;\n",
              "    }\n",
              "</style>\n",
              "<table border=\"1\" class=\"dataframe\">\n",
              "  <thead>\n",
              "    <tr style=\"text-align: right;\">\n",
              "      <th></th>\n",
              "      <th>power_hp</th>\n",
              "      <th>fuel</th>\n",
              "      <th>wheel</th>\n",
              "      <th>transmission</th>\n",
              "      <th>body</th>\n",
              "      <th>variant</th>\n",
              "    </tr>\n",
              "  </thead>\n",
              "  <tbody>\n",
              "    <tr>\n",
              "      <th>chisq-pvalue</th>\n",
              "      <td>0.459</td>\n",
              "      <td>0.703</td>\n",
              "      <td>0.688</td>\n",
              "      <td>0.173</td>\n",
              "      <td>0.159</td>\n",
              "      <td>0.077</td>\n",
              "    </tr>\n",
              "  </tbody>\n",
              "</table>\n",
              "</div>"
            ],
            "text/plain": [
              "              power_hp   fuel  wheel  transmission   body  variant\n",
              "chisq-pvalue     0.459  0.703  0.688         0.173  0.159    0.077"
            ]
          },
          "metadata": {
            "tags": []
          },
          "execution_count": 11
        }
      ]
    },
    {
      "cell_type": "markdown",
      "metadata": {
        "id": "31FeyRW-ITcm",
        "colab_type": "text"
      },
      "source": [
        "Take significance level at 0.05, none of the variables show statistical significance in recall result.\n",
        "\n",
        "Take significance level at 0.1, variant shows statistical significance to recall result. But which variant type has strong power in recall prediction? We will calculate the standard residusals to see where there is the most deviation from the expected values from chi-square test.\n",
        "\n"
      ]
    },
    {
      "cell_type": "code",
      "metadata": {
        "id": "jsqpnhSYI36E",
        "colab_type": "code",
        "outputId": "d9422eda-0a70-4fed-badf-c9234004cb28",
        "colab": {
          "base_uri": "https://localhost:8080/",
          "height": 296
        }
      },
      "source": [
        "import statsmodels.api as sm\n",
        "\n",
        "variant_table = Create_Table(car, 'variant', 'recall_result')\n",
        "table = sm.stats.Table(variant_table)\n",
        "\n",
        "sns.heatmap(table.standardized_resids, annot=True)\n",
        "save_fig('Heatmap_of_Variant_Residuals_Chisq');\n"
      ],
      "execution_count": 0,
      "outputs": [
        {
          "output_type": "display_data",
          "data": {
            "image/png": "[encoded data removed]",
            "text/plain": [
              "<Figure size 432x288 with 2 Axes>"
            ]
          },
          "metadata": {
            "tags": [],
            "needs_background": "light"
          }
        }
      ]
    },
    {
      "cell_type": "markdown",
      "metadata": {
        "id": "e4ytwjgCI3S6",
        "colab_type": "text"
      },
      "source": [
        "From the heatmap, we can easily see the biggest values are for the Base + recall, and GT + do not recall. S type is relatively similar in recall and not recall group."
      ]
    },
    {
      "cell_type": "markdown",
      "metadata": {
        "id": "8jOkdM5A7F4w",
        "colab_type": "text"
      },
      "source": [
        "## Bootstraping: the average quantity sold by recall group"
      ]
    },
    {
      "cell_type": "code",
      "metadata": {
        "id": "vtHys4a07W3c",
        "colab_type": "code",
        "outputId": "cb08e01d-3810-479c-be58-71a3cc042333",
        "colab": {
          "base_uri": "https://localhost:8080/",
          "height": 314
        }
      },
      "source": [
        "boot_recall = []\n",
        "for i in range(20):\n",
        "    boot_mean = car.sample(frac=1, replace=True).groupby('recall_result')['quantity_sold'].mean()\n",
        "    boot_recall.append(boot_mean)\n",
        "\n",
        "boot_recall = pd.DataFrame(boot_recall)\n",
        "boot_recall.plot(kind='kde')\n",
        "save_fig('bootstrap_diff_quantity_sold_by_recall_group')"
      ],
      "execution_count": 0,
      "outputs": [
        {
          "output_type": "display_data",
          "data": {
            "text/plain": [
              "<Figure size 432x288 with 0 Axes>"
            ]
          },
          "metadata": {
            "tags": []
          }
        },
        {
          "output_type": "display_data",
          "data": {
            "image/png": "[encoded data removed]",
            "text/plain": [
              "<Figure size 432x288 with 1 Axes>"
            ]
          },
          "metadata": {
            "tags": [],
            "needs_background": "light"
          }
        }
      ]
    },
    {
      "cell_type": "markdown",
      "metadata": {
        "id": "8g3sXbtc9782",
        "colab_type": "text"
      },
      "source": [
        "These two distributions above show evidence of a difference in quantity sold in recall and not recall group. The average of 20 random samples show non-recalled vehicles were sold for 5500 on average, about 500 less than the recall vehicles sold."
      ]
    },
    {
      "cell_type": "markdown",
      "metadata": {
        "id": "jrG5Jkv6dhhS",
        "colab_type": "text"
      },
      "source": [
        "## Time Series Visualisation on Recall Rate and Quantity Sold"
      ]
    },
    {
      "cell_type": "code",
      "metadata": {
        "id": "fPFhbs1IXA1D",
        "colab_type": "code",
        "outputId": "81967cf8-f2bb-4c23-c67a-a08666e679ac",
        "colab": {
          "base_uri": "https://localhost:8080/",
          "height": 411
        }
      },
      "source": [
        "table = pd.pivot_table(car, index='model_year', columns='recall_result', values='quantity_sold', aggfunc=sum, fill_value=0)\n",
        "x = list(range(0, len(table)))\n",
        "m = table.sum(axis=1).values\n",
        "y=table['do not recall'].values\n",
        "z=table['recall'].values\n",
        "r=table['recall'].div(table.sum(axis=1)).values\n",
        "\n",
        "fig, (ax1, ax0) = plt.subplots(2, 1, figsize=(20, 6))\n",
        "\n",
        "#first graph\n",
        "bwidth=0.4\n",
        "\n",
        "ax1.bar(x, y, width=bwidth, color='green', label='Not Recall')\n",
        "ax1.bar(x, z, width=bwidth, bottom=y, color='orange', label='Recall')\n",
        "ax1.set(ylabel='Num of Cars Sold')\n",
        "ax1.set_xticks(x)\n",
        "ax1.set_xticklabels(table.index.values)\n",
        "ax1.legend(loc='upper left')\n",
        "\n",
        "markers_on = np.where(r==1)[0].tolist()\n",
        "color = 'tab:gray'\n",
        "ax2 = ax1.twinx()\n",
        "ax2.plot(x, r, '--', marker='*', color=color, markevery=markers_on)\n",
        "ax2.set_ylabel('Recall Rate', color=color)\n",
        "ax2.tick_params(axis='y', labelcolor=color)\n",
        "ax2.set_title('Quantity Sold(General) by Model Year')\n",
        "\n",
        "#second graph\n",
        "sns.pointplot(x=x, y=z, ax=ax0, legend=False)\n",
        "ax0.set_xticks(x)\n",
        "ax0.set_xticklabels(table.index.values)\n",
        "ax0.set_title('Quantity Sold(Recall) by Model Year')\n",
        "ax0.set_ylabel('Quantity Sold')\n",
        "ax0.set_xlabel('Model year');\n",
        "\n",
        "plt.subplots_adjust(hspace=0.5)\n",
        "save_fig('Plots_Quantity_sold_and_Recall_by_Model_Year');"
      ],
      "execution_count": 0,
      "outputs": [
        {
          "output_type": "display_data",
          "data": {
            "image/png": "[encoded data removed]",
            "text/plain": [
              "<Figure size 1440x432 with 3 Axes>"
            ]
          },
          "metadata": {
            "tags": [],
            "needs_background": "light"
          }
        }
      ]
    },
    {
      "cell_type": "markdown",
      "metadata": {
        "id": "f0QI5_HPJTi4",
        "colab_type": "text"
      },
      "source": [
        "Firstly, car model made in year 1984, 1985, 1991, 2000, and 2012 had 100% recall rate. Conversely, car model made in 1974, 1975, 1982 had 100% not recall rate. This model year variable is a strong signal of recal prediction.\n",
        "\n",
        "In addition. there appears to have repetitive pattern in recall quantity along with model year. Provided with panel data, we can conduct a time-series prediction, to use the historical data (such as last two or three years) to predict the recall quantity of new car model for the following years.\n",
        "\n"
      ]
    },
    {
      "cell_type": "markdown",
      "metadata": {
        "id": "XYCSBYV6hKuo",
        "colab_type": "text"
      },
      "source": [
        "# Recall Analysis by Logistic Regression Model\n",
        "\n",
        "Logistic regression is good benchmark model due to its simplicity and explainability. Above all, it provides quantitive interpretation between independent and target variables."
      ]
    },
    {
      "cell_type": "code",
      "metadata": {
        "id": "MDiaU0UxAe61",
        "colab_type": "code",
        "outputId": "d12dcc74-a33f-4d43-ebe7-1a4625ac375f",
        "colab": {
          "base_uri": "https://localhost:8080/",
          "height": 603
        }
      },
      "source": [
        "if car['recall_result'].dtype == 'object':\n",
        "  car['recall_result'] = car['recall_result'].replace({'recall': 1, 'do not recall': 0})\n",
        "\n",
        "model = smf.logit(formula='recall_result~quantity_sold+C(power_hp)+C(fuel)+C(transmission)+C(body)+C(variant)', data=car).fit() #drop the year to mitigate resultant df columns > rows\n",
        "print(model.summary())"
      ],
      "execution_count": 0,
      "outputs": [
        {
          "output_type": "stream",
          "text": [
            "Optimization terminated successfully.\n",
            "         Current function value: 0.552105\n",
            "         Iterations 6\n",
            "                           Logit Regression Results                           \n",
            "==============================================================================\n",
            "Dep. Variable:          recall_result   No. Observations:                  100\n",
            "Model:                          Logit   Df Residuals:                       83\n",
            "Method:                           MLE   Df Model:                           16\n",
            "Date:                Sat, 23 May 2020   Pseudo R-squ.:                  0.1977\n",
            "Time:                        18:51:29   Log-Likelihood:                -55.211\n",
            "converged:                       True   LL-Null:                       -68.814\n",
            "Covariance Type:            nonrobust   LLR p-value:                   0.03924\n",
            "=====================================================================================================\n",
            "                                        coef    std err          z      P>|z|      [0.025      0.975]\n",
            "-----------------------------------------------------------------------------------------------------\n",
            "Intercept                            -1.8157      1.036     -1.753      0.080      -3.846       0.215\n",
            "C(power_hp)[T.125]                    1.7515      0.888      1.972      0.049       0.011       3.492\n",
            "C(power_hp)[T.150]                    2.0097      1.006      1.997      0.046       0.037       3.982\n",
            "C(power_hp)[T.200]                    2.0450      0.989      2.067      0.039       0.106       3.984\n",
            "C(power_hp)[T.250]                    1.8476      1.018      1.816      0.069      -0.147       3.842\n",
            "C(power_hp)[T.300]                    1.9994      1.018      1.963      0.050       0.003       3.995\n",
            "C(fuel)[T.electric]                  -0.5606      0.756     -0.742      0.458      -2.042       0.921\n",
            "C(fuel)[T.hybrid]                     1.0241      0.676      1.514      0.130      -0.302       2.350\n",
            "C(fuel)[T.petrol]                     0.2189      0.647      0.338      0.735      -1.049       1.487\n",
            "C(transmission)[T.manual]            -1.2564      0.624     -2.014      0.044      -2.479      -0.034\n",
            "C(transmission)[T.semi-automatic]    -0.5978      0.576     -1.037      0.300      -1.727       0.532\n",
            "C(body)[T.hatchback]                  2.3211      0.869      2.671      0.008       0.618       4.024\n",
            "C(body)[T.saloon]                     0.7946      0.683      1.163      0.245      -0.544       2.134\n",
            "C(body)[T.wagon]                      1.7161      0.747      2.296      0.022       0.251       3.181\n",
            "C(variant)[T.GT]                     -1.8814      0.705     -2.669      0.008      -3.263      -0.500\n",
            "C(variant)[T.S]                      -1.0341      0.613     -1.687      0.092      -2.235       0.167\n",
            "quantity_sold                      3.174e-05   9.25e-05      0.343      0.732      -0.000       0.000\n",
            "=====================================================================================================\n"
          ],
          "name": "stdout"
        }
      ]
    },
    {
      "cell_type": "code",
      "metadata": {
        "id": "E4ebrwOrZZdB",
        "colab_type": "code",
        "outputId": "3a59ff0e-65c1-4e88-d03f-85a84cf806bd",
        "colab": {
          "base_uri": "https://localhost:8080/",
          "height": 557
        }
      },
      "source": [
        "coeff = pd.DataFrame(model.params).rename(columns={0:'log_odds'})\n",
        "exp_coef = np.exp(coeff)\n",
        "prob_recall = exp_coef/(1+exp_coef)\n",
        "coeff.assign(exp_coef=exp_coef, prob_recall=prob_recall)"
      ],
      "execution_count": 0,
      "outputs": [
        {
          "output_type": "execute_result",
          "data": {
            "text/html": [
              "<div>\n",
              "<style scoped>\n",
              "    .dataframe tbody tr th:only-of-type {\n",
              "        vertical-align: middle;\n",
              "    }\n",
              "\n",
              "    .dataframe tbody tr th {\n",
              "        vertical-align: top;\n",
              "    }\n",
              "\n",
              "    .dataframe thead th {\n",
              "        text-align: right;\n",
              "    }\n",
              "</style>\n",
              "<table border=\"1\" class=\"dataframe\">\n",
              "  <thead>\n",
              "    <tr style=\"text-align: right;\">\n",
              "      <th></th>\n",
              "      <th>log_odds</th>\n",
              "      <th>exp_coef</th>\n",
              "      <th>prob_recall</th>\n",
              "    </tr>\n",
              "  </thead>\n",
              "  <tbody>\n",
              "    <tr>\n",
              "      <th>Intercept</th>\n",
              "      <td>-1.815670</td>\n",
              "      <td>0.162729</td>\n",
              "      <td>0.139954</td>\n",
              "    </tr>\n",
              "    <tr>\n",
              "      <th>C(power_hp)[T.125]</th>\n",
              "      <td>1.751507</td>\n",
              "      <td>5.763284</td>\n",
              "      <td>0.852143</td>\n",
              "    </tr>\n",
              "    <tr>\n",
              "      <th>C(power_hp)[T.150]</th>\n",
              "      <td>2.009675</td>\n",
              "      <td>7.460892</td>\n",
              "      <td>0.881809</td>\n",
              "    </tr>\n",
              "    <tr>\n",
              "      <th>C(power_hp)[T.200]</th>\n",
              "      <td>2.045025</td>\n",
              "      <td>7.729351</td>\n",
              "      <td>0.885444</td>\n",
              "    </tr>\n",
              "    <tr>\n",
              "      <th>C(power_hp)[T.250]</th>\n",
              "      <td>1.847625</td>\n",
              "      <td>6.344735</td>\n",
              "      <td>0.863848</td>\n",
              "    </tr>\n",
              "    <tr>\n",
              "      <th>C(power_hp)[T.300]</th>\n",
              "      <td>1.999368</td>\n",
              "      <td>7.384385</td>\n",
              "      <td>0.880731</td>\n",
              "    </tr>\n",
              "    <tr>\n",
              "      <th>C(fuel)[T.electric]</th>\n",
              "      <td>-0.560650</td>\n",
              "      <td>0.570838</td>\n",
              "      <td>0.363397</td>\n",
              "    </tr>\n",
              "    <tr>\n",
              "      <th>C(fuel)[T.hybrid]</th>\n",
              "      <td>1.024056</td>\n",
              "      <td>2.784467</td>\n",
              "      <td>0.735762</td>\n",
              "    </tr>\n",
              "    <tr>\n",
              "      <th>C(fuel)[T.petrol]</th>\n",
              "      <td>0.218928</td>\n",
              "      <td>1.244742</td>\n",
              "      <td>0.554514</td>\n",
              "    </tr>\n",
              "    <tr>\n",
              "      <th>C(transmission)[T.manual]</th>\n",
              "      <td>-1.256414</td>\n",
              "      <td>0.284673</td>\n",
              "      <td>0.221592</td>\n",
              "    </tr>\n",
              "    <tr>\n",
              "      <th>C(transmission)[T.semi-automatic]</th>\n",
              "      <td>-0.597827</td>\n",
              "      <td>0.550005</td>\n",
              "      <td>0.354841</td>\n",
              "    </tr>\n",
              "    <tr>\n",
              "      <th>C(body)[T.hatchback]</th>\n",
              "      <td>2.321052</td>\n",
              "      <td>10.186389</td>\n",
              "      <td>0.910606</td>\n",
              "    </tr>\n",
              "    <tr>\n",
              "      <th>C(body)[T.saloon]</th>\n",
              "      <td>0.794641</td>\n",
              "      <td>2.213646</td>\n",
              "      <td>0.688827</td>\n",
              "    </tr>\n",
              "    <tr>\n",
              "      <th>C(body)[T.wagon]</th>\n",
              "      <td>1.716057</td>\n",
              "      <td>5.562552</td>\n",
              "      <td>0.847620</td>\n",
              "    </tr>\n",
              "    <tr>\n",
              "      <th>C(variant)[T.GT]</th>\n",
              "      <td>-1.881376</td>\n",
              "      <td>0.152380</td>\n",
              "      <td>0.132231</td>\n",
              "    </tr>\n",
              "    <tr>\n",
              "      <th>C(variant)[T.S]</th>\n",
              "      <td>-1.034103</td>\n",
              "      <td>0.355545</td>\n",
              "      <td>0.262289</td>\n",
              "    </tr>\n",
              "    <tr>\n",
              "      <th>quantity_sold</th>\n",
              "      <td>0.000032</td>\n",
              "      <td>1.000032</td>\n",
              "      <td>0.500008</td>\n",
              "    </tr>\n",
              "  </tbody>\n",
              "</table>\n",
              "</div>"
            ],
            "text/plain": [
              "                                   log_odds   exp_coef  prob_recall\n",
              "Intercept                         -1.815670   0.162729     0.139954\n",
              "C(power_hp)[T.125]                 1.751507   5.763284     0.852143\n",
              "C(power_hp)[T.150]                 2.009675   7.460892     0.881809\n",
              "C(power_hp)[T.200]                 2.045025   7.729351     0.885444\n",
              "C(power_hp)[T.250]                 1.847625   6.344735     0.863848\n",
              "C(power_hp)[T.300]                 1.999368   7.384385     0.880731\n",
              "C(fuel)[T.electric]               -0.560650   0.570838     0.363397\n",
              "C(fuel)[T.hybrid]                  1.024056   2.784467     0.735762\n",
              "C(fuel)[T.petrol]                  0.218928   1.244742     0.554514\n",
              "C(transmission)[T.manual]         -1.256414   0.284673     0.221592\n",
              "C(transmission)[T.semi-automatic] -0.597827   0.550005     0.354841\n",
              "C(body)[T.hatchback]               2.321052  10.186389     0.910606\n",
              "C(body)[T.saloon]                  0.794641   2.213646     0.688827\n",
              "C(body)[T.wagon]                   1.716057   5.562552     0.847620\n",
              "C(variant)[T.GT]                  -1.881376   0.152380     0.132231\n",
              "C(variant)[T.S]                   -1.034103   0.355545     0.262289\n",
              "quantity_sold                      0.000032   1.000032     0.500008"
            ]
          },
          "metadata": {
            "tags": []
          },
          "execution_count": 136
        }
      ]
    },
    {
      "cell_type": "markdown",
      "metadata": {
        "id": "CN0dLHvUOT6N",
        "colab_type": "text"
      },
      "source": [
        "The model with LLR p-value less than 0.05 indicates the model is statistically significant. From the coefficient of fule variable, an eletric car is negatively related to recall, while a hybrid car is positively related to recall. We can tell from the coefficient of fule that when the car is hybrid, the log odds of them being recalled increased by 1.02. If we take the expopential of log odd, we will get the odd as 2.78, and probability that the car will be recalled will be 0.74, which means the use of hybrid fuel will increase 74% of chance of being recalled than diesel car.\n",
        "\n",
        "The p value indicates the significance of the corresponding feature. Hence, we can use this for feature selection. The `horse power`, `body` and `variant` are statistically significant. We shall consider these features in predictive model."
      ]
    },
    {
      "cell_type": "markdown",
      "metadata": {
        "id": "9t6ntRLkTNU-",
        "colab_type": "text"
      },
      "source": [
        "# Recall Analysis by Decision Tree\n",
        "\n",
        "Decision tree provides a good tool to visualize the combinatorial effects from multiple variables on target class."
      ]
    },
    {
      "cell_type": "code",
      "metadata": {
        "id": "tMR3ttVFUDue",
        "colab_type": "code",
        "colab": {}
      },
      "source": [
        "cat_features = set(car.select_dtypes('object').columns).difference(['model_year'])\n",
        "num_features = set(car.select_dtypes('int64').columns).difference(['recall_result', 'model_year'])\n",
        "\n",
        "cat_enc = pd.get_dummies(car[cat_features])\n",
        "car_encoded = pd.concat([cat_enc, car[num_features], car[['recall_result']]], axis=1)\n",
        "\n",
        "X = car_encoded.drop('recall_result', axis=1)\n",
        "y = car_encoded['recall_result']"
      ],
      "execution_count": 0,
      "outputs": []
    },
    {
      "cell_type": "code",
      "metadata": {
        "id": "zM4olTjyR8TD",
        "colab_type": "code",
        "outputId": "b2adc374-4d89-4546-b9f6-a75a5e052dfc",
        "colab": {
          "base_uri": "https://localhost:8080/",
          "height": 123
        }
      },
      "source": [
        "from sklearn.tree import DecisionTreeClassifier\n",
        "tree = DecisionTreeClassifier(max_depth=4, random_state=42)\n",
        "tree.fit(X, y)"
      ],
      "execution_count": 0,
      "outputs": [
        {
          "output_type": "execute_result",
          "data": {
            "text/plain": [
              "DecisionTreeClassifier(ccp_alpha=0.0, class_weight=None, criterion='gini',\n",
              "                       max_depth=4, max_features=None, max_leaf_nodes=None,\n",
              "                       min_impurity_decrease=0.0, min_impurity_split=None,\n",
              "                       min_samples_leaf=1, min_samples_split=2,\n",
              "                       min_weight_fraction_leaf=0.0, presort='deprecated',\n",
              "                       random_state=42, splitter='best')"
            ]
          },
          "metadata": {
            "tags": []
          },
          "execution_count": 89
        }
      ]
    },
    {
      "cell_type": "code",
      "metadata": {
        "id": "Rg1R6NRQDA4k",
        "colab_type": "code",
        "outputId": "addf0069-d989-4a52-ac4c-4c1c834ed745",
        "colab": {
          "base_uri": "https://localhost:8080/",
          "height": 777
        }
      },
      "source": [
        "import graphviz\n",
        "from sklearn.tree import export_graphviz\n",
        "\n",
        "params = export_graphviz(\n",
        "    tree, \n",
        "    feature_names=X.columns, \n",
        "    class_names=['0', '1'], \n",
        "    filled=True, \n",
        "    rounded=True, \n",
        "    out_file=None\n",
        ") \n",
        "\n",
        "graph = graphviz.Source(params)\n",
        "graph.format = 'png'\n",
        "graph.render(os.path.join(IMAGES_PATH, 'dtree_render'),view=False)\n",
        "graph"
      ],
      "execution_count": 0,
      "outputs": [
        {
          "output_type": "execute_result",
          "data": {
            "text/plain": [
              "<graphviz.files.Source at 0x7f253c119ef0>"
            ],
            "image/svg+xml": "<?xml version=\"1.0\" encoding=\"UTF-8\" standalone=\"no\"?>\n<!DOCTYPE svg PUBLIC \"-//W3C//DTD SVG 1.1//EN\"\n \"http://www.w3.org/Graphics/SVG/1.1/DTD/svg11.dtd\">\n<!-- Generated by graphviz version 2.40.1 (20161225.0304)\n -->\n<!-- Title: Tree Pages: 1 -->\n<svg width=\"1417pt\" height=\"552pt\"\n viewBox=\"0.00 0.00 1416.50 552.00\" xmlns=\"http://www.w3.org/2000/svg\" xmlns:xlink=\"http://www.w3.org/1999/xlink\">\n<g id=\"graph0\" class=\"graph\" transform=\"scale(1 1) rotate(0) translate(4 548)\">\n<title>Tree</title>\n<polygon fill=\"#ffffff\" stroke=\"transparent\" points=\"-4,4 -4,-548 1412.5,-548 1412.5,4 -4,4\"/>\n<!-- 0 -->\n<g id=\"node1\" class=\"node\">\n<title>0</title>\n<path fill=\"#fae8db\" stroke=\"#000000\" d=\"M837,-544C837,-544 719,-544 719,-544 713,-544 707,-538 707,-532 707,-532 707,-473 707,-473 707,-467 713,-461 719,-461 719,-461 837,-461 837,-461 843,-461 849,-467 849,-473 849,-473 849,-532 849,-532 849,-538 843,-544 837,-544\"/>\n<text text-anchor=\"middle\" x=\"778\" y=\"-528.8\" font-family=\"Helvetica,sans-Serif\" font-size=\"14.00\" fill=\"#000000\">body_coupe &lt;= 0.5</text>\n<text text-anchor=\"middle\" x=\"778\" y=\"-513.8\" font-family=\"Helvetica,sans-Serif\" font-size=\"14.00\" fill=\"#000000\">gini = 0.495</text>\n<text text-anchor=\"middle\" x=\"778\" y=\"-498.8\" font-family=\"Helvetica,sans-Serif\" font-size=\"14.00\" fill=\"#000000\">samples = 100</text>\n<text text-anchor=\"middle\" x=\"778\" y=\"-483.8\" font-family=\"Helvetica,sans-Serif\" font-size=\"14.00\" fill=\"#000000\">value = [55, 45]</text>\n<text text-anchor=\"middle\" x=\"778\" y=\"-468.8\" font-family=\"Helvetica,sans-Serif\" font-size=\"14.00\" fill=\"#000000\">class = 0</text>\n</g>\n<!-- 1 -->\n<g id=\"node2\" class=\"node\">\n<title>1</title>\n<path fill=\"#f5fafe\" stroke=\"#000000\" d=\"M704.5,-425C704.5,-425 595.5,-425 595.5,-425 589.5,-425 583.5,-419 583.5,-413 583.5,-413 583.5,-354 583.5,-354 583.5,-348 589.5,-342 595.5,-342 595.5,-342 704.5,-342 704.5,-342 710.5,-342 716.5,-348 716.5,-354 716.5,-354 716.5,-413 716.5,-413 716.5,-419 710.5,-425 704.5,-425\"/>\n<text text-anchor=\"middle\" x=\"650\" y=\"-409.8\" font-family=\"Helvetica,sans-Serif\" font-size=\"14.00\" fill=\"#000000\">variant_GT &lt;= 0.5</text>\n<text text-anchor=\"middle\" x=\"650\" y=\"-394.8\" font-family=\"Helvetica,sans-Serif\" font-size=\"14.00\" fill=\"#000000\">gini = 0.5</text>\n<text text-anchor=\"middle\" x=\"650\" y=\"-379.8\" font-family=\"Helvetica,sans-Serif\" font-size=\"14.00\" fill=\"#000000\">samples = 74</text>\n<text text-anchor=\"middle\" x=\"650\" y=\"-364.8\" font-family=\"Helvetica,sans-Serif\" font-size=\"14.00\" fill=\"#000000\">value = [36, 38]</text>\n<text text-anchor=\"middle\" x=\"650\" y=\"-349.8\" font-family=\"Helvetica,sans-Serif\" font-size=\"14.00\" fill=\"#000000\">class = 1</text>\n</g>\n<!-- 0&#45;&gt;1 -->\n<g id=\"edge1\" class=\"edge\">\n<title>0&#45;&gt;1</title>\n<path fill=\"none\" stroke=\"#000000\" d=\"M733.2318,-460.8796C723.2537,-451.6031 712.5881,-441.6874 702.3358,-432.1559\"/>\n<polygon fill=\"#000000\" stroke=\"#000000\" points=\"704.6663,-429.5436 694.9593,-425.2981 699.9,-434.6704 704.6663,-429.5436\"/>\n<text text-anchor=\"middle\" x=\"695.8696\" y=\"-446.5815\" font-family=\"Helvetica,sans-Serif\" font-size=\"14.00\" fill=\"#000000\">True</text>\n</g>\n<!-- 16 -->\n<g id=\"node17\" class=\"node\">\n<title>16</title>\n<path fill=\"#efaf82\" stroke=\"#000000\" d=\"M904,-425C904,-425 786,-425 786,-425 780,-425 774,-419 774,-413 774,-413 774,-354 774,-354 774,-348 780,-342 786,-342 786,-342 904,-342 904,-342 910,-342 916,-348 916,-354 916,-354 916,-413 916,-413 916,-419 910,-425 904,-425\"/>\n<text text-anchor=\"middle\" x=\"845\" y=\"-409.8\" font-family=\"Helvetica,sans-Serif\" font-size=\"14.00\" fill=\"#000000\">power_hp &lt;= 112.5</text>\n<text text-anchor=\"middle\" x=\"845\" y=\"-394.8\" font-family=\"Helvetica,sans-Serif\" font-size=\"14.00\" fill=\"#000000\">gini = 0.393</text>\n<text text-anchor=\"middle\" x=\"845\" y=\"-379.8\" font-family=\"Helvetica,sans-Serif\" font-size=\"14.00\" fill=\"#000000\">samples = 26</text>\n<text text-anchor=\"middle\" x=\"845\" y=\"-364.8\" font-family=\"Helvetica,sans-Serif\" font-size=\"14.00\" fill=\"#000000\">value = [19, 7]</text>\n<text text-anchor=\"middle\" x=\"845\" y=\"-349.8\" font-family=\"Helvetica,sans-Serif\" font-size=\"14.00\" fill=\"#000000\">class = 0</text>\n</g>\n<!-- 0&#45;&gt;16 -->\n<g id=\"edge16\" class=\"edge\">\n<title>0&#45;&gt;16</title>\n<path fill=\"none\" stroke=\"#000000\" d=\"M801.4333,-460.8796C806.3013,-452.2335 811.4819,-443.0322 816.5086,-434.1042\"/>\n<polygon fill=\"#000000\" stroke=\"#000000\" points=\"819.6103,-435.729 821.4666,-425.2981 813.5107,-432.2947 819.6103,-435.729\"/>\n<text text-anchor=\"middle\" x=\"828.1978\" y=\"-445.6749\" font-family=\"Helvetica,sans-Serif\" font-size=\"14.00\" fill=\"#000000\">False</text>\n</g>\n<!-- 2 -->\n<g id=\"node3\" class=\"node\">\n<title>2</title>\n<path fill=\"#b4daf5\" stroke=\"#000000\" d=\"M448.5,-306C448.5,-306 327.5,-306 327.5,-306 321.5,-306 315.5,-300 315.5,-294 315.5,-294 315.5,-235 315.5,-235 315.5,-229 321.5,-223 327.5,-223 327.5,-223 448.5,-223 448.5,-223 454.5,-223 460.5,-229 460.5,-235 460.5,-235 460.5,-294 460.5,-294 460.5,-300 454.5,-306 448.5,-306\"/>\n<text text-anchor=\"middle\" x=\"388\" y=\"-290.8\" font-family=\"Helvetica,sans-Serif\" font-size=\"14.00\" fill=\"#000000\">body_saloon &lt;= 0.5</text>\n<text text-anchor=\"middle\" x=\"388\" y=\"-275.8\" font-family=\"Helvetica,sans-Serif\" font-size=\"14.00\" fill=\"#000000\">gini = 0.473</text>\n<text text-anchor=\"middle\" x=\"388\" y=\"-260.8\" font-family=\"Helvetica,sans-Serif\" font-size=\"14.00\" fill=\"#000000\">samples = 47</text>\n<text text-anchor=\"middle\" x=\"388\" y=\"-245.8\" font-family=\"Helvetica,sans-Serif\" font-size=\"14.00\" fill=\"#000000\">value = [18, 29]</text>\n<text text-anchor=\"middle\" x=\"388\" y=\"-230.8\" font-family=\"Helvetica,sans-Serif\" font-size=\"14.00\" fill=\"#000000\">class = 1</text>\n</g>\n<!-- 1&#45;&gt;2 -->\n<g id=\"edge2\" class=\"edge\">\n<title>1&#45;&gt;2</title>\n<path fill=\"none\" stroke=\"#000000\" d=\"M583.2084,-353.1634C548.6865,-337.4836 506.2609,-318.2139 469.7897,-301.6487\"/>\n<polygon fill=\"#000000\" stroke=\"#000000\" points=\"471.2063,-298.4481 460.654,-297.4994 468.3115,-304.8215 471.2063,-298.4481\"/>\n</g>\n<!-- 9 -->\n<g id=\"node10\" class=\"node\">\n<title>9</title>\n<path fill=\"#f2c09c\" stroke=\"#000000\" d=\"M737.5,-306C737.5,-306 562.5,-306 562.5,-306 556.5,-306 550.5,-300 550.5,-294 550.5,-294 550.5,-235 550.5,-235 550.5,-229 556.5,-223 562.5,-223 562.5,-223 737.5,-223 737.5,-223 743.5,-223 749.5,-229 749.5,-235 749.5,-235 749.5,-294 749.5,-294 749.5,-300 743.5,-306 737.5,-306\"/>\n<text text-anchor=\"middle\" x=\"650\" y=\"-290.8\" font-family=\"Helvetica,sans-Serif\" font-size=\"14.00\" fill=\"#000000\">transmission_manual &lt;= 0.5</text>\n<text text-anchor=\"middle\" x=\"650\" y=\"-275.8\" font-family=\"Helvetica,sans-Serif\" font-size=\"14.00\" fill=\"#000000\">gini = 0.444</text>\n<text text-anchor=\"middle\" x=\"650\" y=\"-260.8\" font-family=\"Helvetica,sans-Serif\" font-size=\"14.00\" fill=\"#000000\">samples = 27</text>\n<text text-anchor=\"middle\" x=\"650\" y=\"-245.8\" font-family=\"Helvetica,sans-Serif\" font-size=\"14.00\" fill=\"#000000\">value = [18, 9]</text>\n<text text-anchor=\"middle\" x=\"650\" y=\"-230.8\" font-family=\"Helvetica,sans-Serif\" font-size=\"14.00\" fill=\"#000000\">class = 0</text>\n</g>\n<!-- 1&#45;&gt;9 -->\n<g id=\"edge9\" class=\"edge\">\n<title>1&#45;&gt;9</title>\n<path fill=\"none\" stroke=\"#000000\" d=\"M650,-341.8796C650,-333.6838 650,-324.9891 650,-316.5013\"/>\n<polygon fill=\"#000000\" stroke=\"#000000\" points=\"653.5001,-316.298 650,-306.2981 646.5001,-316.2981 653.5001,-316.298\"/>\n</g>\n<!-- 3 -->\n<g id=\"node4\" class=\"node\">\n<title>3</title>\n<path fill=\"#77bced\" stroke=\"#000000\" d=\"M246,-187C246,-187 98,-187 98,-187 92,-187 86,-181 86,-175 86,-175 86,-116 86,-116 86,-110 92,-104 98,-104 98,-104 246,-104 246,-104 252,-104 258,-110 258,-116 258,-116 258,-175 258,-175 258,-181 252,-187 246,-187\"/>\n<text text-anchor=\"middle\" x=\"172\" y=\"-171.8\" font-family=\"Helvetica,sans-Serif\" font-size=\"14.00\" fill=\"#000000\">quantity_sold &lt;= 7462.0</text>\n<text text-anchor=\"middle\" x=\"172\" y=\"-156.8\" font-family=\"Helvetica,sans-Serif\" font-size=\"14.00\" fill=\"#000000\">gini = 0.363</text>\n<text text-anchor=\"middle\" x=\"172\" y=\"-141.8\" font-family=\"Helvetica,sans-Serif\" font-size=\"14.00\" fill=\"#000000\">samples = 21</text>\n<text text-anchor=\"middle\" x=\"172\" y=\"-126.8\" font-family=\"Helvetica,sans-Serif\" font-size=\"14.00\" fill=\"#000000\">value = [5, 16]</text>\n<text text-anchor=\"middle\" x=\"172\" y=\"-111.8\" font-family=\"Helvetica,sans-Serif\" font-size=\"14.00\" fill=\"#000000\">class = 1</text>\n</g>\n<!-- 2&#45;&gt;3 -->\n<g id=\"edge3\" class=\"edge\">\n<title>2&#45;&gt;3</title>\n<path fill=\"none\" stroke=\"#000000\" d=\"M315.4742,-224.5437C296.5561,-214.1212 276.0043,-202.7987 256.5233,-192.0661\"/>\n<polygon fill=\"#000000\" stroke=\"#000000\" points=\"258.1054,-188.9417 247.6577,-187.1818 254.7276,-195.0728 258.1054,-188.9417\"/>\n</g>\n<!-- 6 -->\n<g id=\"node7\" class=\"node\">\n<title>6</title>\n<path fill=\"#ffffff\" stroke=\"#000000\" d=\"M462,-187C462,-187 314,-187 314,-187 308,-187 302,-181 302,-175 302,-175 302,-116 302,-116 302,-110 308,-104 314,-104 314,-104 462,-104 462,-104 468,-104 474,-110 474,-116 474,-116 474,-175 474,-175 474,-181 468,-187 462,-187\"/>\n<text text-anchor=\"middle\" x=\"388\" y=\"-171.8\" font-family=\"Helvetica,sans-Serif\" font-size=\"14.00\" fill=\"#000000\">quantity_sold &lt;= 6218.5</text>\n<text text-anchor=\"middle\" x=\"388\" y=\"-156.8\" font-family=\"Helvetica,sans-Serif\" font-size=\"14.00\" fill=\"#000000\">gini = 0.5</text>\n<text text-anchor=\"middle\" x=\"388\" y=\"-141.8\" font-family=\"Helvetica,sans-Serif\" font-size=\"14.00\" fill=\"#000000\">samples = 26</text>\n<text text-anchor=\"middle\" x=\"388\" y=\"-126.8\" font-family=\"Helvetica,sans-Serif\" font-size=\"14.00\" fill=\"#000000\">value = [13, 13]</text>\n<text text-anchor=\"middle\" x=\"388\" y=\"-111.8\" font-family=\"Helvetica,sans-Serif\" font-size=\"14.00\" fill=\"#000000\">class = 0</text>\n</g>\n<!-- 2&#45;&gt;6 -->\n<g id=\"edge6\" class=\"edge\">\n<title>2&#45;&gt;6</title>\n<path fill=\"none\" stroke=\"#000000\" d=\"M388,-222.8796C388,-214.6838 388,-205.9891 388,-197.5013\"/>\n<polygon fill=\"#000000\" stroke=\"#000000\" points=\"391.5001,-197.298 388,-187.2981 384.5001,-197.2981 391.5001,-197.298\"/>\n</g>\n<!-- 4 -->\n<g id=\"node5\" class=\"node\">\n<title>4</title>\n<path fill=\"#b5daf5\" stroke=\"#000000\" d=\"M92,-68C92,-68 12,-68 12,-68 6,-68 0,-62 0,-56 0,-56 0,-12 0,-12 0,-6 6,0 12,0 12,0 92,0 92,0 98,0 104,-6 104,-12 104,-12 104,-56 104,-56 104,-62 98,-68 92,-68\"/>\n<text text-anchor=\"middle\" x=\"52\" y=\"-52.8\" font-family=\"Helvetica,sans-Serif\" font-size=\"14.00\" fill=\"#000000\">gini = 0.473</text>\n<text text-anchor=\"middle\" x=\"52\" y=\"-37.8\" font-family=\"Helvetica,sans-Serif\" font-size=\"14.00\" fill=\"#000000\">samples = 13</text>\n<text text-anchor=\"middle\" x=\"52\" y=\"-22.8\" font-family=\"Helvetica,sans-Serif\" font-size=\"14.00\" fill=\"#000000\">value = [5, 8]</text>\n<text text-anchor=\"middle\" x=\"52\" y=\"-7.8\" font-family=\"Helvetica,sans-Serif\" font-size=\"14.00\" fill=\"#000000\">class = 1</text>\n</g>\n<!-- 3&#45;&gt;4 -->\n<g id=\"edge4\" class=\"edge\">\n<title>3&#45;&gt;4</title>\n<path fill=\"none\" stroke=\"#000000\" d=\"M127.3164,-103.9815C117.2273,-94.607 106.519,-84.6572 96.4399,-75.2921\"/>\n<polygon fill=\"#000000\" stroke=\"#000000\" points=\"98.5839,-72.5065 88.8757,-68.2637 93.8191,-77.6346 98.5839,-72.5065\"/>\n</g>\n<!-- 5 -->\n<g id=\"node6\" class=\"node\">\n<title>5</title>\n<path fill=\"#399de5\" stroke=\"#000000\" d=\"M209.5,-68C209.5,-68 134.5,-68 134.5,-68 128.5,-68 122.5,-62 122.5,-56 122.5,-56 122.5,-12 122.5,-12 122.5,-6 128.5,0 134.5,0 134.5,0 209.5,0 209.5,0 215.5,0 221.5,-6 221.5,-12 221.5,-12 221.5,-56 221.5,-56 221.5,-62 215.5,-68 209.5,-68\"/>\n<text text-anchor=\"middle\" x=\"172\" y=\"-52.8\" font-family=\"Helvetica,sans-Serif\" font-size=\"14.00\" fill=\"#000000\">gini = 0.0</text>\n<text text-anchor=\"middle\" x=\"172\" y=\"-37.8\" font-family=\"Helvetica,sans-Serif\" font-size=\"14.00\" fill=\"#000000\">samples = 8</text>\n<text text-anchor=\"middle\" x=\"172\" y=\"-22.8\" font-family=\"Helvetica,sans-Serif\" font-size=\"14.00\" fill=\"#000000\">value = [0, 8]</text>\n<text text-anchor=\"middle\" x=\"172\" y=\"-7.8\" font-family=\"Helvetica,sans-Serif\" font-size=\"14.00\" fill=\"#000000\">class = 1</text>\n</g>\n<!-- 3&#45;&gt;5 -->\n<g id=\"edge5\" class=\"edge\">\n<title>3&#45;&gt;5</title>\n<path fill=\"none\" stroke=\"#000000\" d=\"M172,-103.9815C172,-95.618 172,-86.7965 172,-78.3409\"/>\n<polygon fill=\"#000000\" stroke=\"#000000\" points=\"175.5001,-78.2636 172,-68.2637 168.5001,-78.2637 175.5001,-78.2636\"/>\n</g>\n<!-- 7 -->\n<g id=\"node8\" class=\"node\">\n<title>7</title>\n<path fill=\"#9ccef2\" stroke=\"#000000\" d=\"M332,-68C332,-68 252,-68 252,-68 246,-68 240,-62 240,-56 240,-56 240,-12 240,-12 240,-6 246,0 252,0 252,0 332,0 332,0 338,0 344,-6 344,-12 344,-12 344,-56 344,-56 344,-62 338,-68 332,-68\"/>\n<text text-anchor=\"middle\" x=\"292\" y=\"-52.8\" font-family=\"Helvetica,sans-Serif\" font-size=\"14.00\" fill=\"#000000\">gini = 0.444</text>\n<text text-anchor=\"middle\" x=\"292\" y=\"-37.8\" font-family=\"Helvetica,sans-Serif\" font-size=\"14.00\" fill=\"#000000\">samples = 12</text>\n<text text-anchor=\"middle\" x=\"292\" y=\"-22.8\" font-family=\"Helvetica,sans-Serif\" font-size=\"14.00\" fill=\"#000000\">value = [4, 8]</text>\n<text text-anchor=\"middle\" x=\"292\" y=\"-7.8\" font-family=\"Helvetica,sans-Serif\" font-size=\"14.00\" fill=\"#000000\">class = 1</text>\n</g>\n<!-- 6&#45;&gt;7 -->\n<g id=\"edge7\" class=\"edge\">\n<title>6&#45;&gt;7</title>\n<path fill=\"none\" stroke=\"#000000\" d=\"M352.2531,-103.9815C344.3401,-94.7908 335.9509,-85.0472 328.0268,-75.8436\"/>\n<polygon fill=\"#000000\" stroke=\"#000000\" points=\"330.6776,-73.5582 321.5006,-68.2637 325.3729,-78.1255 330.6776,-73.5582\"/>\n</g>\n<!-- 8 -->\n<g id=\"node9\" class=\"node\">\n<title>8</title>\n<path fill=\"#f3c7a7\" stroke=\"#000000\" d=\"M454,-68C454,-68 374,-68 374,-68 368,-68 362,-62 362,-56 362,-56 362,-12 362,-12 362,-6 368,0 374,0 374,0 454,0 454,0 460,0 466,-6 466,-12 466,-12 466,-56 466,-56 466,-62 460,-68 454,-68\"/>\n<text text-anchor=\"middle\" x=\"414\" y=\"-52.8\" font-family=\"Helvetica,sans-Serif\" font-size=\"14.00\" fill=\"#000000\">gini = 0.459</text>\n<text text-anchor=\"middle\" x=\"414\" y=\"-37.8\" font-family=\"Helvetica,sans-Serif\" font-size=\"14.00\" fill=\"#000000\">samples = 14</text>\n<text text-anchor=\"middle\" x=\"414\" y=\"-22.8\" font-family=\"Helvetica,sans-Serif\" font-size=\"14.00\" fill=\"#000000\">value = [9, 5]</text>\n<text text-anchor=\"middle\" x=\"414\" y=\"-7.8\" font-family=\"Helvetica,sans-Serif\" font-size=\"14.00\" fill=\"#000000\">class = 0</text>\n</g>\n<!-- 6&#45;&gt;8 -->\n<g id=\"edge8\" class=\"edge\">\n<title>6&#45;&gt;8</title>\n<path fill=\"none\" stroke=\"#000000\" d=\"M397.6814,-103.9815C399.6531,-95.5261 401.7339,-86.6026 403.7254,-78.0623\"/>\n<polygon fill=\"#000000\" stroke=\"#000000\" points=\"407.1478,-78.7973 406.0103,-68.2637 400.3307,-77.2076 407.1478,-78.7973\"/>\n</g>\n<!-- 10 -->\n<g id=\"node11\" class=\"node\">\n<title>10</title>\n<path fill=\"#fcf1e9\" stroke=\"#000000\" d=\"M681,-187C681,-187 563,-187 563,-187 557,-187 551,-181 551,-175 551,-175 551,-116 551,-116 551,-110 557,-104 563,-104 563,-104 681,-104 681,-104 687,-104 693,-110 693,-116 693,-116 693,-175 693,-175 693,-181 687,-187 681,-187\"/>\n<text text-anchor=\"middle\" x=\"622\" y=\"-171.8\" font-family=\"Helvetica,sans-Serif\" font-size=\"14.00\" fill=\"#000000\">power_hp &lt;= 112.5</text>\n<text text-anchor=\"middle\" x=\"622\" y=\"-156.8\" font-family=\"Helvetica,sans-Serif\" font-size=\"14.00\" fill=\"#000000\">gini = 0.498</text>\n<text text-anchor=\"middle\" x=\"622\" y=\"-141.8\" font-family=\"Helvetica,sans-Serif\" font-size=\"14.00\" fill=\"#000000\">samples = 17</text>\n<text text-anchor=\"middle\" x=\"622\" y=\"-126.8\" font-family=\"Helvetica,sans-Serif\" font-size=\"14.00\" fill=\"#000000\">value = [9, 8]</text>\n<text text-anchor=\"middle\" x=\"622\" y=\"-111.8\" font-family=\"Helvetica,sans-Serif\" font-size=\"14.00\" fill=\"#000000\">class = 0</text>\n</g>\n<!-- 9&#45;&gt;10 -->\n<g id=\"edge10\" class=\"edge\">\n<title>9&#45;&gt;10</title>\n<path fill=\"none\" stroke=\"#000000\" d=\"M640.207,-222.8796C638.2574,-214.5938 636.1878,-205.798 634.1698,-197.2216\"/>\n<polygon fill=\"#000000\" stroke=\"#000000\" points=\"637.5323,-196.2306 631.8348,-187.2981 630.7183,-197.8339 637.5323,-196.2306\"/>\n</g>\n<!-- 13 -->\n<g id=\"node14\" class=\"node\">\n<title>13</title>\n<path fill=\"#e88f4f\" stroke=\"#000000\" d=\"M871,-187C871,-187 723,-187 723,-187 717,-187 711,-181 711,-175 711,-175 711,-116 711,-116 711,-110 717,-104 723,-104 723,-104 871,-104 871,-104 877,-104 883,-110 883,-116 883,-116 883,-175 883,-175 883,-181 877,-187 871,-187\"/>\n<text text-anchor=\"middle\" x=\"797\" y=\"-171.8\" font-family=\"Helvetica,sans-Serif\" font-size=\"14.00\" fill=\"#000000\">quantity_sold &lt;= 4944.0</text>\n<text text-anchor=\"middle\" x=\"797\" y=\"-156.8\" font-family=\"Helvetica,sans-Serif\" font-size=\"14.00\" fill=\"#000000\">gini = 0.18</text>\n<text text-anchor=\"middle\" x=\"797\" y=\"-141.8\" font-family=\"Helvetica,sans-Serif\" font-size=\"14.00\" fill=\"#000000\">samples = 10</text>\n<text text-anchor=\"middle\" x=\"797\" y=\"-126.8\" font-family=\"Helvetica,sans-Serif\" font-size=\"14.00\" fill=\"#000000\">value = [9, 1]</text>\n<text text-anchor=\"middle\" x=\"797\" y=\"-111.8\" font-family=\"Helvetica,sans-Serif\" font-size=\"14.00\" fill=\"#000000\">class = 0</text>\n</g>\n<!-- 9&#45;&gt;13 -->\n<g id=\"edge13\" class=\"edge\">\n<title>9&#45;&gt;13</title>\n<path fill=\"none\" stroke=\"#000000\" d=\"M701.4135,-222.8796C713.0952,-213.4229 725.5975,-203.302 737.581,-193.6011\"/>\n<polygon fill=\"#000000\" stroke=\"#000000\" points=\"739.7968,-196.3105 745.3671,-187.2981 735.3924,-190.8697 739.7968,-196.3105\"/>\n</g>\n<!-- 11 -->\n<g id=\"node12\" class=\"node\">\n<title>11</title>\n<path fill=\"#e58139\" stroke=\"#000000\" d=\"M571.5,-68C571.5,-68 496.5,-68 496.5,-68 490.5,-68 484.5,-62 484.5,-56 484.5,-56 484.5,-12 484.5,-12 484.5,-6 490.5,0 496.5,0 496.5,0 571.5,0 571.5,0 577.5,0 583.5,-6 583.5,-12 583.5,-12 583.5,-56 583.5,-56 583.5,-62 577.5,-68 571.5,-68\"/>\n<text text-anchor=\"middle\" x=\"534\" y=\"-52.8\" font-family=\"Helvetica,sans-Serif\" font-size=\"14.00\" fill=\"#000000\">gini = 0.0</text>\n<text text-anchor=\"middle\" x=\"534\" y=\"-37.8\" font-family=\"Helvetica,sans-Serif\" font-size=\"14.00\" fill=\"#000000\">samples = 3</text>\n<text text-anchor=\"middle\" x=\"534\" y=\"-22.8\" font-family=\"Helvetica,sans-Serif\" font-size=\"14.00\" fill=\"#000000\">value = [3, 0]</text>\n<text text-anchor=\"middle\" x=\"534\" y=\"-7.8\" font-family=\"Helvetica,sans-Serif\" font-size=\"14.00\" fill=\"#000000\">class = 0</text>\n</g>\n<!-- 10&#45;&gt;11 -->\n<g id=\"edge11\" class=\"edge\">\n<title>10&#45;&gt;11</title>\n<path fill=\"none\" stroke=\"#000000\" d=\"M589.232,-103.9815C582.051,-94.8828 574.4421,-85.242 567.2426,-76.1199\"/>\n<polygon fill=\"#000000\" stroke=\"#000000\" points=\"569.9849,-73.9451 561.0422,-68.2637 564.4901,-78.2818 569.9849,-73.9451\"/>\n</g>\n<!-- 12 -->\n<g id=\"node13\" class=\"node\">\n<title>12</title>\n<path fill=\"#cee6f8\" stroke=\"#000000\" d=\"M694,-68C694,-68 614,-68 614,-68 608,-68 602,-62 602,-56 602,-56 602,-12 602,-12 602,-6 608,0 614,0 614,0 694,0 694,0 700,0 706,-6 706,-12 706,-12 706,-56 706,-56 706,-62 700,-68 694,-68\"/>\n<text text-anchor=\"middle\" x=\"654\" y=\"-52.8\" font-family=\"Helvetica,sans-Serif\" font-size=\"14.00\" fill=\"#000000\">gini = 0.49</text>\n<text text-anchor=\"middle\" x=\"654\" y=\"-37.8\" font-family=\"Helvetica,sans-Serif\" font-size=\"14.00\" fill=\"#000000\">samples = 14</text>\n<text text-anchor=\"middle\" x=\"654\" y=\"-22.8\" font-family=\"Helvetica,sans-Serif\" font-size=\"14.00\" fill=\"#000000\">value = [6, 8]</text>\n<text text-anchor=\"middle\" x=\"654\" y=\"-7.8\" font-family=\"Helvetica,sans-Serif\" font-size=\"14.00\" fill=\"#000000\">class = 1</text>\n</g>\n<!-- 10&#45;&gt;12 -->\n<g id=\"edge12\" class=\"edge\">\n<title>10&#45;&gt;12</title>\n<path fill=\"none\" stroke=\"#000000\" d=\"M633.9156,-103.9815C636.3423,-95.5261 638.9033,-86.6026 641.3543,-78.0623\"/>\n<polygon fill=\"#000000\" stroke=\"#000000\" points=\"644.772,-78.8412 644.1665,-68.2637 638.0436,-76.9101 644.772,-78.8412\"/>\n</g>\n<!-- 14 -->\n<g id=\"node15\" class=\"node\">\n<title>14</title>\n<path fill=\"#ffffff\" stroke=\"#000000\" d=\"M811.5,-68C811.5,-68 736.5,-68 736.5,-68 730.5,-68 724.5,-62 724.5,-56 724.5,-56 724.5,-12 724.5,-12 724.5,-6 730.5,0 736.5,0 736.5,0 811.5,0 811.5,0 817.5,0 823.5,-6 823.5,-12 823.5,-12 823.5,-56 823.5,-56 823.5,-62 817.5,-68 811.5,-68\"/>\n<text text-anchor=\"middle\" x=\"774\" y=\"-52.8\" font-family=\"Helvetica,sans-Serif\" font-size=\"14.00\" fill=\"#000000\">gini = 0.5</text>\n<text text-anchor=\"middle\" x=\"774\" y=\"-37.8\" font-family=\"Helvetica,sans-Serif\" font-size=\"14.00\" fill=\"#000000\">samples = 2</text>\n<text text-anchor=\"middle\" x=\"774\" y=\"-22.8\" font-family=\"Helvetica,sans-Serif\" font-size=\"14.00\" fill=\"#000000\">value = [1, 1]</text>\n<text text-anchor=\"middle\" x=\"774\" y=\"-7.8\" font-family=\"Helvetica,sans-Serif\" font-size=\"14.00\" fill=\"#000000\">class = 0</text>\n</g>\n<!-- 13&#45;&gt;14 -->\n<g id=\"edge14\" class=\"edge\">\n<title>13&#45;&gt;14</title>\n<path fill=\"none\" stroke=\"#000000\" d=\"M788.4356,-103.9815C786.6915,-95.5261 784.8508,-86.6026 783.0891,-78.0623\"/>\n<polygon fill=\"#000000\" stroke=\"#000000\" points=\"786.516,-77.3504 781.0678,-68.2637 779.6603,-78.7646 786.516,-77.3504\"/>\n</g>\n<!-- 15 -->\n<g id=\"node16\" class=\"node\">\n<title>15</title>\n<path fill=\"#e58139\" stroke=\"#000000\" d=\"M928.5,-68C928.5,-68 853.5,-68 853.5,-68 847.5,-68 841.5,-62 841.5,-56 841.5,-56 841.5,-12 841.5,-12 841.5,-6 847.5,0 853.5,0 853.5,0 928.5,0 928.5,0 934.5,0 940.5,-6 940.5,-12 940.5,-12 940.5,-56 940.5,-56 940.5,-62 934.5,-68 928.5,-68\"/>\n<text text-anchor=\"middle\" x=\"891\" y=\"-52.8\" font-family=\"Helvetica,sans-Serif\" font-size=\"14.00\" fill=\"#000000\">gini = 0.0</text>\n<text text-anchor=\"middle\" x=\"891\" y=\"-37.8\" font-family=\"Helvetica,sans-Serif\" font-size=\"14.00\" fill=\"#000000\">samples = 8</text>\n<text text-anchor=\"middle\" x=\"891\" y=\"-22.8\" font-family=\"Helvetica,sans-Serif\" font-size=\"14.00\" fill=\"#000000\">value = [8, 0]</text>\n<text text-anchor=\"middle\" x=\"891\" y=\"-7.8\" font-family=\"Helvetica,sans-Serif\" font-size=\"14.00\" fill=\"#000000\">class = 0</text>\n</g>\n<!-- 13&#45;&gt;15 -->\n<g id=\"edge15\" class=\"edge\">\n<title>13&#45;&gt;15</title>\n<path fill=\"none\" stroke=\"#000000\" d=\"M832.0021,-103.9815C839.6728,-94.8828 847.8005,-85.242 855.4909,-76.1199\"/>\n<polygon fill=\"#000000\" stroke=\"#000000\" points=\"858.3444,-78.1652 862.114,-68.2637 852.9925,-73.6533 858.3444,-78.1652\"/>\n</g>\n<!-- 17 -->\n<g id=\"node18\" class=\"node\">\n<title>17</title>\n<path fill=\"#e58139\" stroke=\"#000000\" d=\"M882.5,-298.5C882.5,-298.5 807.5,-298.5 807.5,-298.5 801.5,-298.5 795.5,-292.5 795.5,-286.5 795.5,-286.5 795.5,-242.5 795.5,-242.5 795.5,-236.5 801.5,-230.5 807.5,-230.5 807.5,-230.5 882.5,-230.5 882.5,-230.5 888.5,-230.5 894.5,-236.5 894.5,-242.5 894.5,-242.5 894.5,-286.5 894.5,-286.5 894.5,-292.5 888.5,-298.5 882.5,-298.5\"/>\n<text text-anchor=\"middle\" x=\"845\" y=\"-283.3\" font-family=\"Helvetica,sans-Serif\" font-size=\"14.00\" fill=\"#000000\">gini = 0.0</text>\n<text text-anchor=\"middle\" x=\"845\" y=\"-268.3\" font-family=\"Helvetica,sans-Serif\" font-size=\"14.00\" fill=\"#000000\">samples = 8</text>\n<text text-anchor=\"middle\" x=\"845\" y=\"-253.3\" font-family=\"Helvetica,sans-Serif\" font-size=\"14.00\" fill=\"#000000\">value = [8, 0]</text>\n<text text-anchor=\"middle\" x=\"845\" y=\"-238.3\" font-family=\"Helvetica,sans-Serif\" font-size=\"14.00\" fill=\"#000000\">class = 0</text>\n</g>\n<!-- 16&#45;&gt;17 -->\n<g id=\"edge17\" class=\"edge\">\n<title>16&#45;&gt;17</title>\n<path fill=\"none\" stroke=\"#000000\" d=\"M845,-341.8796C845,-331.2134 845,-319.7021 845,-308.9015\"/>\n<polygon fill=\"#000000\" stroke=\"#000000\" points=\"848.5001,-308.8149 845,-298.8149 841.5001,-308.815 848.5001,-308.8149\"/>\n</g>\n<!-- 18 -->\n<g id=\"node19\" class=\"node\">\n<title>18</title>\n<path fill=\"#f6d1b7\" stroke=\"#000000\" d=\"M1068,-306C1068,-306 970,-306 970,-306 964,-306 958,-300 958,-294 958,-294 958,-235 958,-235 958,-229 964,-223 970,-223 970,-223 1068,-223 1068,-223 1074,-223 1080,-229 1080,-235 1080,-235 1080,-294 1080,-294 1080,-300 1074,-306 1068,-306\"/>\n<text text-anchor=\"middle\" x=\"1019\" y=\"-290.8\" font-family=\"Helvetica,sans-Serif\" font-size=\"14.00\" fill=\"#000000\">variant_S &lt;= 0.5</text>\n<text text-anchor=\"middle\" x=\"1019\" y=\"-275.8\" font-family=\"Helvetica,sans-Serif\" font-size=\"14.00\" fill=\"#000000\">gini = 0.475</text>\n<text text-anchor=\"middle\" x=\"1019\" y=\"-260.8\" font-family=\"Helvetica,sans-Serif\" font-size=\"14.00\" fill=\"#000000\">samples = 18</text>\n<text text-anchor=\"middle\" x=\"1019\" y=\"-245.8\" font-family=\"Helvetica,sans-Serif\" font-size=\"14.00\" fill=\"#000000\">value = [11, 7]</text>\n<text text-anchor=\"middle\" x=\"1019\" y=\"-230.8\" font-family=\"Helvetica,sans-Serif\" font-size=\"14.00\" fill=\"#000000\">class = 0</text>\n</g>\n<!-- 16&#45;&gt;18 -->\n<g id=\"edge18\" class=\"edge\">\n<title>16&#45;&gt;18</title>\n<path fill=\"none\" stroke=\"#000000\" d=\"M905.8568,-341.8796C920.0294,-332.1868 935.2225,-321.7961 949.7288,-311.8752\"/>\n<polygon fill=\"#000000\" stroke=\"#000000\" points=\"951.8992,-314.6311 958.1776,-306.0969 947.9475,-308.8531 951.8992,-314.6311\"/>\n</g>\n<!-- 19 -->\n<g id=\"node20\" class=\"node\">\n<title>19</title>\n<path fill=\"#b0d8f5\" stroke=\"#000000\" d=\"M1114,-187C1114,-187 924,-187 924,-187 918,-187 912,-181 912,-175 912,-175 912,-116 912,-116 912,-110 918,-104 924,-104 924,-104 1114,-104 1114,-104 1120,-104 1126,-110 1126,-116 1126,-116 1126,-175 1126,-175 1126,-181 1120,-187 1114,-187\"/>\n<text text-anchor=\"middle\" x=\"1019\" y=\"-171.8\" font-family=\"Helvetica,sans-Serif\" font-size=\"14.00\" fill=\"#000000\">transmission_automatic &lt;= 0.5</text>\n<text text-anchor=\"middle\" x=\"1019\" y=\"-156.8\" font-family=\"Helvetica,sans-Serif\" font-size=\"14.00\" fill=\"#000000\">gini = 0.469</text>\n<text text-anchor=\"middle\" x=\"1019\" y=\"-141.8\" font-family=\"Helvetica,sans-Serif\" font-size=\"14.00\" fill=\"#000000\">samples = 8</text>\n<text text-anchor=\"middle\" x=\"1019\" y=\"-126.8\" font-family=\"Helvetica,sans-Serif\" font-size=\"14.00\" fill=\"#000000\">value = [3, 5]</text>\n<text text-anchor=\"middle\" x=\"1019\" y=\"-111.8\" font-family=\"Helvetica,sans-Serif\" font-size=\"14.00\" fill=\"#000000\">class = 1</text>\n</g>\n<!-- 18&#45;&gt;19 -->\n<g id=\"edge19\" class=\"edge\">\n<title>18&#45;&gt;19</title>\n<path fill=\"none\" stroke=\"#000000\" d=\"M1019,-222.8796C1019,-214.6838 1019,-205.9891 1019,-197.5013\"/>\n<polygon fill=\"#000000\" stroke=\"#000000\" points=\"1022.5001,-197.298 1019,-187.2981 1015.5001,-197.2981 1022.5001,-197.298\"/>\n</g>\n<!-- 22 -->\n<g id=\"node23\" class=\"node\">\n<title>22</title>\n<path fill=\"#eca06a\" stroke=\"#000000\" d=\"M1316,-187C1316,-187 1168,-187 1168,-187 1162,-187 1156,-181 1156,-175 1156,-175 1156,-116 1156,-116 1156,-110 1162,-104 1168,-104 1168,-104 1316,-104 1316,-104 1322,-104 1328,-110 1328,-116 1328,-116 1328,-175 1328,-175 1328,-181 1322,-187 1316,-187\"/>\n<text text-anchor=\"middle\" x=\"1242\" y=\"-171.8\" font-family=\"Helvetica,sans-Serif\" font-size=\"14.00\" fill=\"#000000\">quantity_sold &lt;= 4867.5</text>\n<text text-anchor=\"middle\" x=\"1242\" y=\"-156.8\" font-family=\"Helvetica,sans-Serif\" font-size=\"14.00\" fill=\"#000000\">gini = 0.32</text>\n<text text-anchor=\"middle\" x=\"1242\" y=\"-141.8\" font-family=\"Helvetica,sans-Serif\" font-size=\"14.00\" fill=\"#000000\">samples = 10</text>\n<text text-anchor=\"middle\" x=\"1242\" y=\"-126.8\" font-family=\"Helvetica,sans-Serif\" font-size=\"14.00\" fill=\"#000000\">value = [8, 2]</text>\n<text text-anchor=\"middle\" x=\"1242\" y=\"-111.8\" font-family=\"Helvetica,sans-Serif\" font-size=\"14.00\" fill=\"#000000\">class = 0</text>\n</g>\n<!-- 18&#45;&gt;22 -->\n<g id=\"edge22\" class=\"edge\">\n<title>18&#45;&gt;22</title>\n<path fill=\"none\" stroke=\"#000000\" d=\"M1080.2307,-231.8253C1103.3128,-219.508 1130.0301,-205.2508 1155.0187,-191.916\"/>\n<polygon fill=\"#000000\" stroke=\"#000000\" points=\"1156.9623,-194.8461 1164.1369,-187.0503 1153.6667,-188.6704 1156.9623,-194.8461\"/>\n</g>\n<!-- 20 -->\n<g id=\"node21\" class=\"node\">\n<title>20</title>\n<path fill=\"#f6d5bd\" stroke=\"#000000\" d=\"M1045.5,-68C1045.5,-68 970.5,-68 970.5,-68 964.5,-68 958.5,-62 958.5,-56 958.5,-56 958.5,-12 958.5,-12 958.5,-6 964.5,0 970.5,0 970.5,0 1045.5,0 1045.5,0 1051.5,0 1057.5,-6 1057.5,-12 1057.5,-12 1057.5,-56 1057.5,-56 1057.5,-62 1051.5,-68 1045.5,-68\"/>\n<text text-anchor=\"middle\" x=\"1008\" y=\"-52.8\" font-family=\"Helvetica,sans-Serif\" font-size=\"14.00\" fill=\"#000000\">gini = 0.48</text>\n<text text-anchor=\"middle\" x=\"1008\" y=\"-37.8\" font-family=\"Helvetica,sans-Serif\" font-size=\"14.00\" fill=\"#000000\">samples = 5</text>\n<text text-anchor=\"middle\" x=\"1008\" y=\"-22.8\" font-family=\"Helvetica,sans-Serif\" font-size=\"14.00\" fill=\"#000000\">value = [3, 2]</text>\n<text text-anchor=\"middle\" x=\"1008\" y=\"-7.8\" font-family=\"Helvetica,sans-Serif\" font-size=\"14.00\" fill=\"#000000\">class = 0</text>\n</g>\n<!-- 19&#45;&gt;20 -->\n<g id=\"edge20\" class=\"edge\">\n<title>19&#45;&gt;20</title>\n<path fill=\"none\" stroke=\"#000000\" d=\"M1014.904,-103.9815C1014.0789,-95.618 1013.2086,-86.7965 1012.3744,-78.3409\"/>\n<polygon fill=\"#000000\" stroke=\"#000000\" points=\"1015.8452,-77.8717 1011.3803,-68.2637 1008.8791,-78.559 1015.8452,-77.8717\"/>\n</g>\n<!-- 21 -->\n<g id=\"node22\" class=\"node\">\n<title>21</title>\n<path fill=\"#399de5\" stroke=\"#000000\" d=\"M1162.5,-68C1162.5,-68 1087.5,-68 1087.5,-68 1081.5,-68 1075.5,-62 1075.5,-56 1075.5,-56 1075.5,-12 1075.5,-12 1075.5,-6 1081.5,0 1087.5,0 1087.5,0 1162.5,0 1162.5,0 1168.5,0 1174.5,-6 1174.5,-12 1174.5,-12 1174.5,-56 1174.5,-56 1174.5,-62 1168.5,-68 1162.5,-68\"/>\n<text text-anchor=\"middle\" x=\"1125\" y=\"-52.8\" font-family=\"Helvetica,sans-Serif\" font-size=\"14.00\" fill=\"#000000\">gini = 0.0</text>\n<text text-anchor=\"middle\" x=\"1125\" y=\"-37.8\" font-family=\"Helvetica,sans-Serif\" font-size=\"14.00\" fill=\"#000000\">samples = 3</text>\n<text text-anchor=\"middle\" x=\"1125\" y=\"-22.8\" font-family=\"Helvetica,sans-Serif\" font-size=\"14.00\" fill=\"#000000\">value = [0, 3]</text>\n<text text-anchor=\"middle\" x=\"1125\" y=\"-7.8\" font-family=\"Helvetica,sans-Serif\" font-size=\"14.00\" fill=\"#000000\">class = 1</text>\n</g>\n<!-- 19&#45;&gt;21 -->\n<g id=\"edge21\" class=\"edge\">\n<title>19&#45;&gt;21</title>\n<path fill=\"none\" stroke=\"#000000\" d=\"M1058.4705,-103.9815C1067.2952,-94.6989 1076.6562,-84.8522 1085.4827,-75.5677\"/>\n<polygon fill=\"#000000\" stroke=\"#000000\" points=\"1088.073,-77.9228 1092.4265,-68.2637 1082.9997,-73.0997 1088.073,-77.9228\"/>\n</g>\n<!-- 23 -->\n<g id=\"node24\" class=\"node\">\n<title>23</title>\n<path fill=\"#e58139\" stroke=\"#000000\" d=\"M1279.5,-68C1279.5,-68 1204.5,-68 1204.5,-68 1198.5,-68 1192.5,-62 1192.5,-56 1192.5,-56 1192.5,-12 1192.5,-12 1192.5,-6 1198.5,0 1204.5,0 1204.5,0 1279.5,0 1279.5,0 1285.5,0 1291.5,-6 1291.5,-12 1291.5,-12 1291.5,-56 1291.5,-56 1291.5,-62 1285.5,-68 1279.5,-68\"/>\n<text text-anchor=\"middle\" x=\"1242\" y=\"-52.8\" font-family=\"Helvetica,sans-Serif\" font-size=\"14.00\" fill=\"#000000\">gini = 0.0</text>\n<text text-anchor=\"middle\" x=\"1242\" y=\"-37.8\" font-family=\"Helvetica,sans-Serif\" font-size=\"14.00\" fill=\"#000000\">samples = 6</text>\n<text text-anchor=\"middle\" x=\"1242\" y=\"-22.8\" font-family=\"Helvetica,sans-Serif\" font-size=\"14.00\" fill=\"#000000\">value = [6, 0]</text>\n<text text-anchor=\"middle\" x=\"1242\" y=\"-7.8\" font-family=\"Helvetica,sans-Serif\" font-size=\"14.00\" fill=\"#000000\">class = 0</text>\n</g>\n<!-- 22&#45;&gt;23 -->\n<g id=\"edge23\" class=\"edge\">\n<title>22&#45;&gt;23</title>\n<path fill=\"none\" stroke=\"#000000\" d=\"M1242,-103.9815C1242,-95.618 1242,-86.7965 1242,-78.3409\"/>\n<polygon fill=\"#000000\" stroke=\"#000000\" points=\"1245.5001,-78.2636 1242,-68.2637 1238.5001,-78.2637 1245.5001,-78.2636\"/>\n</g>\n<!-- 24 -->\n<g id=\"node25\" class=\"node\">\n<title>24</title>\n<path fill=\"#ffffff\" stroke=\"#000000\" d=\"M1396.5,-68C1396.5,-68 1321.5,-68 1321.5,-68 1315.5,-68 1309.5,-62 1309.5,-56 1309.5,-56 1309.5,-12 1309.5,-12 1309.5,-6 1315.5,0 1321.5,0 1321.5,0 1396.5,0 1396.5,0 1402.5,0 1408.5,-6 1408.5,-12 1408.5,-12 1408.5,-56 1408.5,-56 1408.5,-62 1402.5,-68 1396.5,-68\"/>\n<text text-anchor=\"middle\" x=\"1359\" y=\"-52.8\" font-family=\"Helvetica,sans-Serif\" font-size=\"14.00\" fill=\"#000000\">gini = 0.5</text>\n<text text-anchor=\"middle\" x=\"1359\" y=\"-37.8\" font-family=\"Helvetica,sans-Serif\" font-size=\"14.00\" fill=\"#000000\">samples = 4</text>\n<text text-anchor=\"middle\" x=\"1359\" y=\"-22.8\" font-family=\"Helvetica,sans-Serif\" font-size=\"14.00\" fill=\"#000000\">value = [2, 2]</text>\n<text text-anchor=\"middle\" x=\"1359\" y=\"-7.8\" font-family=\"Helvetica,sans-Serif\" font-size=\"14.00\" fill=\"#000000\">class = 0</text>\n</g>\n<!-- 22&#45;&gt;24 -->\n<g id=\"edge24\" class=\"edge\">\n<title>22&#45;&gt;24</title>\n<path fill=\"none\" stroke=\"#000000\" d=\"M1285.5665,-103.9815C1295.4034,-94.607 1305.844,-84.6572 1315.6711,-75.2921\"/>\n<polygon fill=\"#000000\" stroke=\"#000000\" points=\"1318.2216,-77.6963 1323.0462,-68.2637 1313.3924,-72.6289 1318.2216,-77.6963\"/>\n</g>\n</g>\n</svg>\n"
          },
          "metadata": {
            "tags": []
          },
          "execution_count": 96
        }
      ]
    },
    {
      "cell_type": "markdown",
      "metadata": {
        "id": "Xt5aQV36XtnO",
        "colab_type": "text"
      },
      "source": [
        "We can draw insights by following the tree in top-down manner. Blue color indicates class 1, orange indicates class 0. The deeper the color, the more pure or lower gini value calculated in the box.\n",
        "\n",
        "The first split is `body as coupe`, with the threshold of 0.5. When vehicle type has `coupe` as its body, it is dummified as 1 in the dataset, therefore greater than threshold 0.5. In this case, the majority class is 0, meaning no recall as result, and we have a gini value of 0.495.\n",
        "\n",
        "As gini is the impurity method, when the node is pure, that is having only one class, the gini value will be 0. We would like the gini to be lower, with sufficient cases in the node. Going to the right side of the tree, if `horse power` of the vehicle is also less than 112.5, this vehicle model is not going to be reclled. \n",
        "\n",
        "On the left side of the tree, there is a model type should be recalled following the trail of four different conditions:\n",
        "\n",
        "> vehicle body is not coupe nor saloon -> variant is not GT -> manufacturer has sold more than 7462 cars in this type of vehicle -> this vehicle type should be recalled.\n",
        "\n",
        "There are lots of insights we can draw from this diagram. You can also extend the trees or giving more attributes for it to evaluate. Decisiontree is better option than regression analysis when the data does not follow linear fashion."
      ]
    },
    {
      "cell_type": "markdown",
      "metadata": {
        "id": "ik5ByR40n1Ax",
        "colab_type": "text"
      },
      "source": [
        "# Build Machine Learning Models"
      ]
    },
    {
      "cell_type": "markdown",
      "metadata": {
        "id": "AYUx3qMy4lSb",
        "colab_type": "text"
      },
      "source": [
        "## Preprocess"
      ]
    },
    {
      "cell_type": "code",
      "metadata": {
        "id": "xHuLUgejlXLJ",
        "colab_type": "code",
        "outputId": "cfcab2d7-b347-4c02-8657-8754b0594ac4",
        "colab": {
          "base_uri": "https://localhost:8080/",
          "height": 197
        }
      },
      "source": [
        "if car['recall_result'].dtype == 'object':\n",
        "  car['recall_result'] = car['recall_result'].replace({'recall': 1, 'do not recall': 0})\n",
        "  \n",
        "car.head()"
      ],
      "execution_count": 0,
      "outputs": [
        {
          "output_type": "execute_result",
          "data": {
            "text/html": [
              "<div>\n",
              "<style scoped>\n",
              "    .dataframe tbody tr th:only-of-type {\n",
              "        vertical-align: middle;\n",
              "    }\n",
              "\n",
              "    .dataframe tbody tr th {\n",
              "        vertical-align: top;\n",
              "    }\n",
              "\n",
              "    .dataframe thead th {\n",
              "        text-align: right;\n",
              "    }\n",
              "</style>\n",
              "<table border=\"1\" class=\"dataframe\">\n",
              "  <thead>\n",
              "    <tr style=\"text-align: right;\">\n",
              "      <th></th>\n",
              "      <th>model_year</th>\n",
              "      <th>fuel</th>\n",
              "      <th>wheel</th>\n",
              "      <th>power_hp</th>\n",
              "      <th>transmission</th>\n",
              "      <th>body</th>\n",
              "      <th>variant</th>\n",
              "      <th>quantity_sold</th>\n",
              "      <th>recall_result</th>\n",
              "    </tr>\n",
              "  </thead>\n",
              "  <tbody>\n",
              "    <tr>\n",
              "      <th>0</th>\n",
              "      <td>2002</td>\n",
              "      <td>diesel</td>\n",
              "      <td>steel</td>\n",
              "      <td>100</td>\n",
              "      <td>semi-automatic</td>\n",
              "      <td>hatchback</td>\n",
              "      <td>Base</td>\n",
              "      <td>2641</td>\n",
              "      <td>1</td>\n",
              "    </tr>\n",
              "    <tr>\n",
              "      <th>1</th>\n",
              "      <td>2010</td>\n",
              "      <td>petrol</td>\n",
              "      <td>alloy</td>\n",
              "      <td>250</td>\n",
              "      <td>automatic</td>\n",
              "      <td>wagon</td>\n",
              "      <td>GT</td>\n",
              "      <td>1349</td>\n",
              "      <td>1</td>\n",
              "    </tr>\n",
              "    <tr>\n",
              "      <th>2</th>\n",
              "      <td>1992</td>\n",
              "      <td>diesel</td>\n",
              "      <td>steel</td>\n",
              "      <td>125</td>\n",
              "      <td>semi-automatic</td>\n",
              "      <td>saloon</td>\n",
              "      <td>S</td>\n",
              "      <td>7980</td>\n",
              "      <td>0</td>\n",
              "    </tr>\n",
              "    <tr>\n",
              "      <th>3</th>\n",
              "      <td>2010</td>\n",
              "      <td>petrol</td>\n",
              "      <td>alloy</td>\n",
              "      <td>250</td>\n",
              "      <td>semi-automatic</td>\n",
              "      <td>wagon</td>\n",
              "      <td>Base</td>\n",
              "      <td>1135</td>\n",
              "      <td>0</td>\n",
              "    </tr>\n",
              "    <tr>\n",
              "      <th>4</th>\n",
              "      <td>2005</td>\n",
              "      <td>diesel</td>\n",
              "      <td>steel</td>\n",
              "      <td>300</td>\n",
              "      <td>automatic</td>\n",
              "      <td>saloon</td>\n",
              "      <td>Base</td>\n",
              "      <td>2089</td>\n",
              "      <td>1</td>\n",
              "    </tr>\n",
              "  </tbody>\n",
              "</table>\n",
              "</div>"
            ],
            "text/plain": [
              "   model_year    fuel  wheel  ...  variant quantity_sold recall_result\n",
              "0        2002  diesel  steel  ...     Base          2641             1\n",
              "1        2010  petrol  alloy  ...       GT          1349             1\n",
              "2        1992  diesel  steel  ...        S          7980             0\n",
              "3        2010  petrol  alloy  ...     Base          1135             0\n",
              "4        2005  diesel  steel  ...     Base          2089             1\n",
              "\n",
              "[5 rows x 9 columns]"
            ]
          },
          "metadata": {
            "tags": []
          },
          "execution_count": 14
        }
      ]
    },
    {
      "cell_type": "code",
      "metadata": {
        "id": "22YSmInYlavG",
        "colab_type": "code",
        "colab": {}
      },
      "source": [
        "from sklearn.model_selection import train_test_split\n",
        "from category_encoders import TargetEncoder\n",
        "from sklearn.preprocessing import OneHotEncoder\n",
        "\n",
        "features = ['model_year', 'body', 'variant', 'power_hp']\n",
        "X = car[features]\n",
        "y = car['recall_result']\n",
        "X_train, X_test, y_train, y_test = train_test_split(X, y, test_size=.2, random_state=42)\n",
        "\n",
        "\n",
        "#model year\n",
        "encoder = TargetEncoder()\n",
        "encoder.fit(X_train['model_year'].astype('object'), y_train)\n",
        "year_enc_train = encoder.transform(X_train['model_year'].astype('object'))\n",
        "year_enc_test = encoder.transform(X_test['model_year'].astype('object'))\n",
        "\n",
        "#encode other cat vars\n",
        "cat_vars = ['body', 'variant', 'power_hp']\n",
        "ohe = OneHotEncoder()\n",
        "ohe.fit(X_train[cat_vars])\n",
        "cat_categories = ohe.categories_\n",
        "train_cat = ohe.transform(X_train[cat_vars]).toarray()\n",
        "test_cat = ohe.transform(X_test[cat_vars]).toarray()\n",
        "\n",
        "X_train_cleaned = np.c_[year_enc_train, train_cat]\n",
        "X_test_cleaned = np.c_[year_enc_test, test_cat]"
      ],
      "execution_count": 0,
      "outputs": []
    },
    {
      "cell_type": "markdown",
      "metadata": {
        "id": "0DwMYBzjLyZJ",
        "colab_type": "text"
      },
      "source": [
        "## Benchmark: Logistic Regression"
      ]
    },
    {
      "cell_type": "code",
      "metadata": {
        "id": "2ncORj2CPKon",
        "colab_type": "code",
        "colab": {}
      },
      "source": [
        "from sklearn.linear_model import LogisticRegression\n",
        "from sklearn.model_selection import cross_val_predict, cross_val_score, cross_validate\n",
        "from sklearn.metrics import roc_curve\n",
        "\n",
        "def get_CVScore(model, train_df, train_label, score_method=['roc_auc', 'f1', 'accuracy'], cv=3):\n",
        "  model_scores = cross_validate(model, train_df, train_label, cv=cv,\n",
        "                         scoring=score_method,\n",
        "                         return_train_score=False)  \n",
        "  avg_scores = {}\n",
        "  for k in model_scores:\n",
        "    if k.startswith('test'):\n",
        "      avg_scores[k]=model_scores[k].mean().round(3)\n",
        "  return avg_scores\n",
        "\n",
        "def plot_roc_curve(fpr, tpr, label=None):\n",
        "    plt.plot(fpr, tpr, linewidth=2, label=label)\n",
        "    plt.plot([0, 1], [0, 1], 'k--') # dashed diagonal\n",
        "    plt.axis([0, 1, 0, 1])                                    \n",
        "    plt.xlabel('False Positive Rate (Fall-Out)', fontsize=16) \n",
        "    plt.ylabel('True Positive Rate (Recall)', fontsize=16)    \n",
        "    plt.grid(True)\n",
        "    plt.legend()\n",
        "\n",
        "def get_roc_curve(model, train_df, train_label, method='predict_proba', cv=3):\n",
        "  proba = cross_val_predict(model, train_df, train_label, method='predict_proba', cv=3)[:, 1]\n",
        "  fpr_, tpr_, thesholds_ = roc_curve(train_label, proba)\n",
        "  return fpr_, tpr_"
      ],
      "execution_count": 0,
      "outputs": []
    },
    {
      "cell_type": "code",
      "metadata": {
        "id": "wnLTNyRn6HxJ",
        "colab_type": "code",
        "outputId": "805a8eb0-c893-4058-9d31-e330a464f978",
        "colab": {
          "base_uri": "https://localhost:8080/",
          "height": 310
        }
      },
      "source": [
        "lg = LogisticRegression(random_state=42)\n",
        "lg_scores = get_CVScore(lg, X_train_cleaned, y_train)\n",
        "print(lg_scores)\n",
        "\n",
        "lg_fpr, lg_tpr = get_roc_curve(lg, X_train_cleaned, y_train)\n",
        "plot_roc_curve(lg_fpr, lg_tpr, label='Logistic Regression')\n",
        "save_fig('ROC_AUC_LogisticRegresion_Benchmark')"
      ],
      "execution_count": 0,
      "outputs": [
        {
          "output_type": "stream",
          "text": [
            "{'test_roc_auc': 0.706, 'test_f1': 0.555, 'test_accuracy': 0.601}\n"
          ],
          "name": "stdout"
        },
        {
          "output_type": "display_data",
          "data": {
            "image/png": "[encoded data removed]",
            "text/plain": [
              "<Figure size 432x288 with 1 Axes>"
            ]
          },
          "metadata": {
            "tags": [],
            "needs_background": "light"
          }
        }
      ]
    },
    {
      "cell_type": "markdown",
      "metadata": {
        "id": "Of_QVxO13gzX",
        "colab_type": "text"
      },
      "source": [
        "## Train models"
      ]
    },
    {
      "cell_type": "code",
      "metadata": {
        "id": "90TwDPuc6ORL",
        "colab_type": "code",
        "outputId": "5d4c7144-dde7-4cca-e296-d2c6c94e9792",
        "colab": {
          "base_uri": "https://localhost:8080/",
          "height": 137
        }
      },
      "source": [
        "from sklearn.ensemble import RandomForestClassifier\n",
        "from sklearn.svm import SVC\n",
        "from sklearn.tree import DecisionTreeClassifier\n",
        "from xgboost import XGBClassifier\n",
        "from sklearn.neighbors import KNeighborsClassifier\n",
        "\n",
        "models = []\n",
        "models.append((\"RF\",RandomForestClassifier()))\n",
        "models.append((\"SVC\",SVC()))\n",
        "models.append((\"Tree\",DecisionTreeClassifier()))\n",
        "models.append((\"XGB\",XGBClassifier()))\n",
        "models.append((\"KNN\",KNeighborsClassifier()))\n",
        "\n",
        "scores = pd.DataFrame(data=lg_scores.values(), index=lg_scores.keys(), columns=['LG'])\n",
        "\n",
        "for name,model in models:\n",
        "  score = get_CVScore(model, X_train_cleaned, y_train)\n",
        "  scores[name] = score.values()\n",
        "\n",
        "scores"
      ],
      "execution_count": 0,
      "outputs": [
        {
          "output_type": "execute_result",
          "data": {
            "text/html": [
              "<div>\n",
              "<style scoped>\n",
              "    .dataframe tbody tr th:only-of-type {\n",
              "        vertical-align: middle;\n",
              "    }\n",
              "\n",
              "    .dataframe tbody tr th {\n",
              "        vertical-align: top;\n",
              "    }\n",
              "\n",
              "    .dataframe thead th {\n",
              "        text-align: right;\n",
              "    }\n",
              "</style>\n",
              "<table border=\"1\" class=\"dataframe\">\n",
              "  <thead>\n",
              "    <tr style=\"text-align: right;\">\n",
              "      <th></th>\n",
              "      <th>LG</th>\n",
              "      <th>RF</th>\n",
              "      <th>SVC</th>\n",
              "      <th>Tree</th>\n",
              "      <th>XGB</th>\n",
              "      <th>KNN</th>\n",
              "    </tr>\n",
              "  </thead>\n",
              "  <tbody>\n",
              "    <tr>\n",
              "      <th>test_roc_auc</th>\n",
              "      <td>0.706</td>\n",
              "      <td>0.673</td>\n",
              "      <td>0.636</td>\n",
              "      <td>0.646</td>\n",
              "      <td>0.696</td>\n",
              "      <td>0.677</td>\n",
              "    </tr>\n",
              "    <tr>\n",
              "      <th>test_f1</th>\n",
              "      <td>0.555</td>\n",
              "      <td>0.567</td>\n",
              "      <td>0.392</td>\n",
              "      <td>0.579</td>\n",
              "      <td>0.593</td>\n",
              "      <td>0.561</td>\n",
              "    </tr>\n",
              "    <tr>\n",
              "      <th>test_accuracy</th>\n",
              "      <td>0.601</td>\n",
              "      <td>0.638</td>\n",
              "      <td>0.538</td>\n",
              "      <td>0.650</td>\n",
              "      <td>0.637</td>\n",
              "      <td>0.651</td>\n",
              "    </tr>\n",
              "  </tbody>\n",
              "</table>\n",
              "</div>"
            ],
            "text/plain": [
              "                  LG     RF    SVC   Tree    XGB    KNN\n",
              "test_roc_auc   0.706  0.673  0.636  0.646  0.696  0.677\n",
              "test_f1        0.555  0.567  0.392  0.579  0.593  0.561\n",
              "test_accuracy  0.601  0.638  0.538  0.650  0.637  0.651"
            ]
          },
          "metadata": {
            "tags": []
          },
          "execution_count": 9
        }
      ]
    },
    {
      "cell_type": "markdown",
      "metadata": {
        "id": "dnENLsKG4FZM",
        "colab_type": "text"
      },
      "source": [
        "## Model Performance"
      ]
    },
    {
      "cell_type": "code",
      "metadata": {
        "id": "LNIt36bxWgGq",
        "colab_type": "code",
        "outputId": "9a1ae892-077a-4d4e-fe0e-6c1564f20fef",
        "colab": {
          "base_uri": "https://localhost:8080/",
          "height": 393
        }
      },
      "source": [
        "x_axis = range(6)\n",
        "x_ticks = scores.columns\n",
        "\n",
        "fig, ax = plt.subplots(figsize=(8, 6))\n",
        "ax.plot(x_axis, scores.iloc[0, :], linestyle='None', marker='^', color='blue', label='ROC AUC')\n",
        "ax.plot(x_axis, scores.iloc[1, :], linestyle='None', marker='o', color='green', label='F1')\n",
        "ax.plot(x_axis, scores.iloc[2, :], linestyle='None', marker='s', color='red', label='Accuracy')\n",
        "ax.set_xticks(x_axis)\n",
        "ax.set_xticklabels(x_ticks)\n",
        "ax.legend(loc='lower right')\n",
        "ax.grid(True)\n",
        "ax.set_title('Model Performance')\n",
        "ax.set_facecolor('slategrey')\n",
        "save_fig('Model_Performance_Post_Tuning')"
      ],
      "execution_count": 0,
      "outputs": [
        {
          "output_type": "display_data",
          "data": {
            "image/png": "[encoded data removed]",
            "text/plain": [
              "<Figure size 576x432 with 1 Axes>"
            ]
          },
          "metadata": {
            "tags": [],
            "needs_background": "light"
          }
        }
      ]
    },
    {
      "cell_type": "markdown",
      "metadata": {
        "id": "7Euu_oYgUvRw",
        "colab_type": "text"
      },
      "source": [
        "Each model is cross validated 3 times. Logistic regression scores the highest AUC value, XGB scores the highest f1 value, and KNN gets the highest accuracy. SVC has the lowest performance score in all three measurements. We will retrain these three models, together with hyperparameter tuning."
      ]
    },
    {
      "cell_type": "markdown",
      "metadata": {
        "id": "U2xBs7M43nIo",
        "colab_type": "text"
      },
      "source": [
        "## Hyperparameter Tuning"
      ]
    },
    {
      "cell_type": "code",
      "metadata": {
        "id": "tTwLrpRL6WKp",
        "colab_type": "code",
        "outputId": "c1d524db-9dbc-40cc-c077-a48179181ce3",
        "colab": {
          "base_uri": "https://localhost:8080/",
          "height": 34
        }
      },
      "source": [
        "from sklearn.model_selection import GridSearchCV\n",
        "import time\n",
        "\n",
        "\n",
        "knn_param_grid = dict(n_neighbors = list(range(1, 5)), weights = [\"uniform\", \"distance\"])\n",
        "lg_param_grid =dict(penalty=['l1', 'l2'], C=np.logspace(-4, 4, 20), solver=['liblinear'])\n",
        "xgb_params_grid = dict(min_child_weight=[1, 5], \n",
        "                       gamma=[0.5, 1, 1.5, 2, 5],\n",
        "                       subsample=[0.6, 0.8, 1.0],\n",
        "                       colsample_bytree=[0.6, 0.8, 1.0],\n",
        "                       max_depth=[2, 3, 4, 5])\n",
        "\n",
        "metrics = ['roc_auc', 'f1', 'accuracy']\n",
        "\n",
        "models = []\n",
        "models.append((\"LG\",LogisticRegression(), lg_param_grid))\n",
        "models.append((\"XGB\",XGBClassifier(), xgb_params_grid))\n",
        "models.append((\"KNN\",KNeighborsClassifier(), knn_param_grid))\n",
        "\n",
        "best = []\n",
        "start = time.time()\n",
        "\n",
        "for name, model, params in models:\n",
        "  gridsearch = GridSearchCV(model, params, scoring=metrics, \n",
        "                          refit='roc_auc', return_train_score=False,cv =3)\n",
        "  gridsearch.fit(X_train_cleaned, y_train)\n",
        "  best.append((name, gridsearch.best_score_, gridsearch.best_estimator_))\n",
        "  save_model(gridsearch.best_estimator_, name)\n",
        "\n",
        "end = time.time()\n",
        "duration = end - start\n",
        "print('Duration: %.2f seconds'%duration)"
      ],
      "execution_count": 0,
      "outputs": [
        {
          "output_type": "stream",
          "text": [
            "Duration: 15.53 seconds\n"
          ],
          "name": "stdout"
        }
      ]
    },
    {
      "cell_type": "code",
      "metadata": {
        "id": "ywfELg7N6fbR",
        "colab_type": "code",
        "outputId": "db82a850-b3e5-45d3-f443-459ffe6c13a7",
        "colab": {
          "base_uri": "https://localhost:8080/",
          "height": 283
        }
      },
      "source": [
        "for (name, score, model) in best:\n",
        "  print(name, score, model)"
      ],
      "execution_count": 0,
      "outputs": [
        {
          "output_type": "stream",
          "text": [
            "LG 0.771031746031746 LogisticRegression(C=78.47599703514607, class_weight=None, dual=False,\n",
            "                   fit_intercept=True, intercept_scaling=1, l1_ratio=None,\n",
            "                   max_iter=100, multi_class='auto', n_jobs=None, penalty='l2',\n",
            "                   random_state=None, solver='liblinear', tol=0.0001, verbose=0,\n",
            "                   warm_start=False)\n",
            "XGB 0.7300264550264551 XGBClassifier(base_score=0.5, booster='gbtree', colsample_bylevel=1,\n",
            "              colsample_bynode=1, colsample_bytree=1.0, gamma=0.5,\n",
            "              learning_rate=0.1, max_delta_step=0, max_depth=5,\n",
            "              min_child_weight=1, missing=None, n_estimators=100, n_jobs=1,\n",
            "              nthread=None, objective='binary:logistic', random_state=0,\n",
            "              reg_alpha=0, reg_lambda=1, scale_pos_weight=1, seed=None,\n",
            "              silent=None, subsample=0.8, verbosity=1)\n",
            "KNN 0.6951719576719576 KNeighborsClassifier(algorithm='auto', leaf_size=30, metric='minkowski',\n",
            "                     metric_params=None, n_jobs=None, n_neighbors=4, p=2,\n",
            "                     weights='uniform')\n"
          ],
          "name": "stdout"
        }
      ]
    },
    {
      "cell_type": "code",
      "metadata": {
        "id": "gQ7wco1Mkm15",
        "colab_type": "code",
        "outputId": "a0a414ad-29c3-4f34-98bd-92ec25f40d1d",
        "colab": {
          "base_uri": "https://localhost:8080/",
          "height": 510
        }
      },
      "source": [
        "from sklearn.metrics import roc_auc_score, f1_score\n",
        "\n",
        "fig, ax = plt.subplots(figsize=(12, 8))\n",
        "ax.plot(lg_fpr, lg_tpr, linewidth=2, label='Logistic Regression')\n",
        "ax.plot([0, 1], [0, 1], 'k--')\n",
        "ax.axis([0, 1, 0, 1])                                    \n",
        "ax.set_xlabel('False Positive Rate (Fall-Out)', fontsize=16) \n",
        "ax.set_ylabel('True Positive Rate (Recall)', fontsize=16)    \n",
        "ax.grid(True)\n",
        "\n",
        "for (name, score, model) in best:\n",
        "\n",
        "  proba_ = model.predict_proba(X_train_cleaned)[:, 1]\n",
        "  y_train_preds = model.predict(X_train_cleaned)\n",
        "  a, b, c = roc_auc_score(y_train, proba_), f1_score(y_train, y_train_preds), model.score(X_train_cleaned, y_train)\n",
        "  scores['new_'+name] = [a, b, c]\n",
        "\n",
        "  train_proba = model.predict_proba(X_train_cleaned)[:, 1]\n",
        "  fpr, tpr, _ = roc_curve(y_train, train_proba)\n",
        "  ax.plot(fpr, tpr, label='new '+name)\n",
        "\n",
        "ax.legend(loc='lower right')\n",
        "save_fig('ROC_AUC_Curve_From_Best_Models')"
      ],
      "execution_count": 0,
      "outputs": [
        {
          "output_type": "display_data",
          "data": {
            "image/png": "[encoded data removed]",
            "text/plain": [
              "<Figure size 864x576 with 1 Axes>"
            ]
          },
          "metadata": {
            "tags": [],
            "needs_background": "light"
          }
        }
      ]
    },
    {
      "cell_type": "code",
      "metadata": {
        "id": "pJ6244F4yJhl",
        "colab_type": "code",
        "outputId": "e129d6ae-d5ee-4d02-d92f-a1a5e98e8ec3",
        "colab": {
          "base_uri": "https://localhost:8080/",
          "height": 137
        }
      },
      "source": [
        "scores.round(3)"
      ],
      "execution_count": 0,
      "outputs": [
        {
          "output_type": "execute_result",
          "data": {
            "text/html": [
              "<div>\n",
              "<style scoped>\n",
              "    .dataframe tbody tr th:only-of-type {\n",
              "        vertical-align: middle;\n",
              "    }\n",
              "\n",
              "    .dataframe tbody tr th {\n",
              "        vertical-align: top;\n",
              "    }\n",
              "\n",
              "    .dataframe thead th {\n",
              "        text-align: right;\n",
              "    }\n",
              "</style>\n",
              "<table border=\"1\" class=\"dataframe\">\n",
              "  <thead>\n",
              "    <tr style=\"text-align: right;\">\n",
              "      <th></th>\n",
              "      <th>LG</th>\n",
              "      <th>RF</th>\n",
              "      <th>SVC</th>\n",
              "      <th>Tree</th>\n",
              "      <th>XGB</th>\n",
              "      <th>KNN</th>\n",
              "      <th>new_LG</th>\n",
              "      <th>new_XGB</th>\n",
              "      <th>new_KNN</th>\n",
              "    </tr>\n",
              "  </thead>\n",
              "  <tbody>\n",
              "    <tr>\n",
              "      <th>test_roc_auc</th>\n",
              "      <td>0.706</td>\n",
              "      <td>0.673</td>\n",
              "      <td>0.636</td>\n",
              "      <td>0.646</td>\n",
              "      <td>0.696</td>\n",
              "      <td>0.677</td>\n",
              "      <td>0.839</td>\n",
              "      <td>0.978</td>\n",
              "      <td>0.822</td>\n",
              "    </tr>\n",
              "    <tr>\n",
              "      <th>test_f1</th>\n",
              "      <td>0.555</td>\n",
              "      <td>0.567</td>\n",
              "      <td>0.392</td>\n",
              "      <td>0.579</td>\n",
              "      <td>0.593</td>\n",
              "      <td>0.561</td>\n",
              "      <td>0.706</td>\n",
              "      <td>0.912</td>\n",
              "      <td>0.577</td>\n",
              "    </tr>\n",
              "    <tr>\n",
              "      <th>test_accuracy</th>\n",
              "      <td>0.601</td>\n",
              "      <td>0.638</td>\n",
              "      <td>0.538</td>\n",
              "      <td>0.650</td>\n",
              "      <td>0.637</td>\n",
              "      <td>0.651</td>\n",
              "      <td>0.750</td>\n",
              "      <td>0.925</td>\n",
              "      <td>0.725</td>\n",
              "    </tr>\n",
              "  </tbody>\n",
              "</table>\n",
              "</div>"
            ],
            "text/plain": [
              "                  LG     RF    SVC   Tree  ...    KNN  new_LG  new_XGB  new_KNN\n",
              "test_roc_auc   0.706  0.673  0.636  0.646  ...  0.677   0.839    0.978    0.822\n",
              "test_f1        0.555  0.567  0.392  0.579  ...  0.561   0.706    0.912    0.577\n",
              "test_accuracy  0.601  0.638  0.538  0.650  ...  0.651   0.750    0.925    0.725\n",
              "\n",
              "[3 rows x 9 columns]"
            ]
          },
          "metadata": {
            "tags": []
          },
          "execution_count": 13
        }
      ]
    },
    {
      "cell_type": "markdown",
      "metadata": {
        "id": "HiED863A3ozG",
        "colab_type": "text"
      },
      "source": [
        "The new tuned model outformed the benchmark model (untuned logistic regression). The strongest learner is XGB, followed by tuned Logistic Regression and KNN. The performance is actually quite high, it appears to be overfitting the training data. We will need to use test data to evaluate the realistic performance."
      ]
    },
    {
      "cell_type": "markdown",
      "metadata": {
        "id": "CIBCKIfjwXyd",
        "colab_type": "text"
      },
      "source": [
        "## Predict on unseen data Using Merged Model"
      ]
    },
    {
      "cell_type": "code",
      "metadata": {
        "id": "uB04jDshtujc",
        "colab_type": "code",
        "outputId": "0a82e5c1-5767-455b-9fcc-b1be824c3fb7",
        "colab": {
          "base_uri": "https://localhost:8080/",
          "height": 647
        }
      },
      "source": [
        "weights = [1, 4, 1]\n",
        "\n",
        "final_test = pd.DataFrame(y_test)\n",
        "for name, _, model in best:\n",
        "  final_test[name] = model.predict_proba(X_test_cleaned)[:, 1]\n",
        "\n",
        "final_test['weighted_mean'] = (final_test.iloc[:, 1:]*weights).sum(axis=1)/sum(weights)\n",
        "final_test['Prediction'] = final_test['weighted_mean'].round(0)\n",
        "final_test"
      ],
      "execution_count": 0,
      "outputs": [
        {
          "output_type": "execute_result",
          "data": {
            "text/html": [
              "<div>\n",
              "<style scoped>\n",
              "    .dataframe tbody tr th:only-of-type {\n",
              "        vertical-align: middle;\n",
              "    }\n",
              "\n",
              "    .dataframe tbody tr th {\n",
              "        vertical-align: top;\n",
              "    }\n",
              "\n",
              "    .dataframe thead th {\n",
              "        text-align: right;\n",
              "    }\n",
              "</style>\n",
              "<table border=\"1\" class=\"dataframe\">\n",
              "  <thead>\n",
              "    <tr style=\"text-align: right;\">\n",
              "      <th></th>\n",
              "      <th>recall_result</th>\n",
              "      <th>LG</th>\n",
              "      <th>XGB</th>\n",
              "      <th>KNN</th>\n",
              "      <th>weighted_mean</th>\n",
              "      <th>Prediction</th>\n",
              "    </tr>\n",
              "  </thead>\n",
              "  <tbody>\n",
              "    <tr>\n",
              "      <th>83</th>\n",
              "      <td>1</td>\n",
              "      <td>0.047072</td>\n",
              "      <td>0.074787</td>\n",
              "      <td>0.00</td>\n",
              "      <td>0.057703</td>\n",
              "      <td>0.0</td>\n",
              "    </tr>\n",
              "    <tr>\n",
              "      <th>53</th>\n",
              "      <td>0</td>\n",
              "      <td>0.965037</td>\n",
              "      <td>0.964610</td>\n",
              "      <td>0.50</td>\n",
              "      <td>0.887246</td>\n",
              "      <td>1.0</td>\n",
              "    </tr>\n",
              "    <tr>\n",
              "      <th>70</th>\n",
              "      <td>0</td>\n",
              "      <td>0.083501</td>\n",
              "      <td>0.185882</td>\n",
              "      <td>0.25</td>\n",
              "      <td>0.179505</td>\n",
              "      <td>0.0</td>\n",
              "    </tr>\n",
              "    <tr>\n",
              "      <th>45</th>\n",
              "      <td>1</td>\n",
              "      <td>0.376554</td>\n",
              "      <td>0.853836</td>\n",
              "      <td>0.75</td>\n",
              "      <td>0.756983</td>\n",
              "      <td>1.0</td>\n",
              "    </tr>\n",
              "    <tr>\n",
              "      <th>44</th>\n",
              "      <td>0</td>\n",
              "      <td>0.032837</td>\n",
              "      <td>0.140364</td>\n",
              "      <td>0.00</td>\n",
              "      <td>0.099049</td>\n",
              "      <td>0.0</td>\n",
              "    </tr>\n",
              "    <tr>\n",
              "      <th>39</th>\n",
              "      <td>1</td>\n",
              "      <td>0.008645</td>\n",
              "      <td>0.177569</td>\n",
              "      <td>0.75</td>\n",
              "      <td>0.244820</td>\n",
              "      <td>0.0</td>\n",
              "    </tr>\n",
              "    <tr>\n",
              "      <th>22</th>\n",
              "      <td>0</td>\n",
              "      <td>0.891363</td>\n",
              "      <td>0.804671</td>\n",
              "      <td>0.50</td>\n",
              "      <td>0.768341</td>\n",
              "      <td>1.0</td>\n",
              "    </tr>\n",
              "    <tr>\n",
              "      <th>80</th>\n",
              "      <td>0</td>\n",
              "      <td>0.034546</td>\n",
              "      <td>0.144258</td>\n",
              "      <td>0.00</td>\n",
              "      <td>0.101930</td>\n",
              "      <td>0.0</td>\n",
              "    </tr>\n",
              "    <tr>\n",
              "      <th>10</th>\n",
              "      <td>0</td>\n",
              "      <td>0.122214</td>\n",
              "      <td>0.466039</td>\n",
              "      <td>0.75</td>\n",
              "      <td>0.456061</td>\n",
              "      <td>0.0</td>\n",
              "    </tr>\n",
              "    <tr>\n",
              "      <th>0</th>\n",
              "      <td>1</td>\n",
              "      <td>0.864382</td>\n",
              "      <td>0.912389</td>\n",
              "      <td>0.25</td>\n",
              "      <td>0.793989</td>\n",
              "      <td>1.0</td>\n",
              "    </tr>\n",
              "    <tr>\n",
              "      <th>18</th>\n",
              "      <td>1</td>\n",
              "      <td>0.699431</td>\n",
              "      <td>0.662432</td>\n",
              "      <td>0.50</td>\n",
              "      <td>0.641526</td>\n",
              "      <td>1.0</td>\n",
              "    </tr>\n",
              "    <tr>\n",
              "      <th>30</th>\n",
              "      <td>0</td>\n",
              "      <td>0.237622</td>\n",
              "      <td>0.327057</td>\n",
              "      <td>0.50</td>\n",
              "      <td>0.340975</td>\n",
              "      <td>0.0</td>\n",
              "    </tr>\n",
              "    <tr>\n",
              "      <th>73</th>\n",
              "      <td>1</td>\n",
              "      <td>0.212474</td>\n",
              "      <td>0.830517</td>\n",
              "      <td>0.75</td>\n",
              "      <td>0.714090</td>\n",
              "      <td>1.0</td>\n",
              "    </tr>\n",
              "    <tr>\n",
              "      <th>33</th>\n",
              "      <td>0</td>\n",
              "      <td>0.301764</td>\n",
              "      <td>0.826114</td>\n",
              "      <td>0.75</td>\n",
              "      <td>0.726037</td>\n",
              "      <td>1.0</td>\n",
              "    </tr>\n",
              "    <tr>\n",
              "      <th>90</th>\n",
              "      <td>0</td>\n",
              "      <td>0.911842</td>\n",
              "      <td>0.768101</td>\n",
              "      <td>0.50</td>\n",
              "      <td>0.747375</td>\n",
              "      <td>1.0</td>\n",
              "    </tr>\n",
              "    <tr>\n",
              "      <th>4</th>\n",
              "      <td>1</td>\n",
              "      <td>0.727859</td>\n",
              "      <td>0.698017</td>\n",
              "      <td>0.50</td>\n",
              "      <td>0.669988</td>\n",
              "      <td>1.0</td>\n",
              "    </tr>\n",
              "    <tr>\n",
              "      <th>76</th>\n",
              "      <td>0</td>\n",
              "      <td>0.081933</td>\n",
              "      <td>0.253374</td>\n",
              "      <td>0.25</td>\n",
              "      <td>0.224238</td>\n",
              "      <td>0.0</td>\n",
              "    </tr>\n",
              "    <tr>\n",
              "      <th>77</th>\n",
              "      <td>0</td>\n",
              "      <td>0.900663</td>\n",
              "      <td>0.505489</td>\n",
              "      <td>0.25</td>\n",
              "      <td>0.528770</td>\n",
              "      <td>1.0</td>\n",
              "    </tr>\n",
              "    <tr>\n",
              "      <th>12</th>\n",
              "      <td>1</td>\n",
              "      <td>0.616988</td>\n",
              "      <td>0.579140</td>\n",
              "      <td>0.00</td>\n",
              "      <td>0.488925</td>\n",
              "      <td>0.0</td>\n",
              "    </tr>\n",
              "    <tr>\n",
              "      <th>31</th>\n",
              "      <td>1</td>\n",
              "      <td>0.612429</td>\n",
              "      <td>0.874569</td>\n",
              "      <td>0.25</td>\n",
              "      <td>0.726784</td>\n",
              "      <td>1.0</td>\n",
              "    </tr>\n",
              "  </tbody>\n",
              "</table>\n",
              "</div>"
            ],
            "text/plain": [
              "    recall_result        LG       XGB   KNN  weighted_mean  Prediction\n",
              "83              1  0.047072  0.074787  0.00       0.057703         0.0\n",
              "53              0  0.965037  0.964610  0.50       0.887246         1.0\n",
              "70              0  0.083501  0.185882  0.25       0.179505         0.0\n",
              "45              1  0.376554  0.853836  0.75       0.756983         1.0\n",
              "44              0  0.032837  0.140364  0.00       0.099049         0.0\n",
              "39              1  0.008645  0.177569  0.75       0.244820         0.0\n",
              "22              0  0.891363  0.804671  0.50       0.768341         1.0\n",
              "80              0  0.034546  0.144258  0.00       0.101930         0.0\n",
              "10              0  0.122214  0.466039  0.75       0.456061         0.0\n",
              "0               1  0.864382  0.912389  0.25       0.793989         1.0\n",
              "18              1  0.699431  0.662432  0.50       0.641526         1.0\n",
              "30              0  0.237622  0.327057  0.50       0.340975         0.0\n",
              "73              1  0.212474  0.830517  0.75       0.714090         1.0\n",
              "33              0  0.301764  0.826114  0.75       0.726037         1.0\n",
              "90              0  0.911842  0.768101  0.50       0.747375         1.0\n",
              "4               1  0.727859  0.698017  0.50       0.669988         1.0\n",
              "76              0  0.081933  0.253374  0.25       0.224238         0.0\n",
              "77              0  0.900663  0.505489  0.25       0.528770         1.0\n",
              "12              1  0.616988  0.579140  0.00       0.488925         0.0\n",
              "31              1  0.612429  0.874569  0.25       0.726784         1.0"
            ]
          },
          "metadata": {
            "tags": []
          },
          "execution_count": 248
        }
      ]
    },
    {
      "cell_type": "markdown",
      "metadata": {
        "id": "CaAQcqhh3tHy",
        "colab_type": "text"
      },
      "source": [
        "## Results"
      ]
    },
    {
      "cell_type": "code",
      "metadata": {
        "id": "i90vAwHUrc__",
        "colab_type": "code",
        "outputId": "63e0ac40-0884-4917-d8f2-a107e035648b",
        "colab": {
          "base_uri": "https://localhost:8080/",
          "height": 176
        }
      },
      "source": [
        "from sklearn.metrics import classification_report\n",
        "\n",
        "print(classification_report(probability['recall_result'], probability['Prediction']))"
      ],
      "execution_count": 0,
      "outputs": [
        {
          "output_type": "stream",
          "text": [
            "              precision    recall  f1-score   support\n",
            "\n",
            "           0       0.70      0.64      0.67        11\n",
            "           1       0.60      0.67      0.63         9\n",
            "\n",
            "    accuracy                           0.65        20\n",
            "   macro avg       0.65      0.65      0.65        20\n",
            "weighted avg       0.65      0.65      0.65        20\n",
            "\n"
          ],
          "name": "stdout"
        }
      ]
    },
    {
      "cell_type": "markdown",
      "metadata": {
        "id": "TL7gLAVG3wYg",
        "colab_type": "text"
      },
      "source": [
        "Our final model is tested by 20 samples, 9 of which is positive labled. Our model correctly classify 67% of all the recalled models. It also correctly classify 70% of the non-recalled class. The overall accuracy of the model is 65%. In the original dataset, recall occupied 45% of the entire dataset, and not recall occupied 55%. By random guessing, we will be right for about 50% of the time. Our model has outformed random guessing by 15% differences. It will be a good start to continue feed in more data to build a robust model. "
      ]
    },
    {
      "cell_type": "markdown",
      "metadata": {
        "id": "LJ0_cGzo31Zn",
        "colab_type": "text"
      },
      "source": [
        "**The end of test**"
      ]
    }
  ]
}